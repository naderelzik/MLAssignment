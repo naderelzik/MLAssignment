{
 "cells": [
  {
   "cell_type": "markdown",
   "id": "603de5fe",
   "metadata": {},
   "source": [
    "## Importing dataset"
   ]
  },
  {
   "cell_type": "code",
   "execution_count": 1,
   "id": "74539831",
   "metadata": {},
   "outputs": [],
   "source": [
    "import seaborn as sns \n",
    "import matplotlib.pyplot as plt\n",
    "import pandas as pd\n",
    "import numpy as np\n",
    "from sklearn import datasets\n"
   ]
  },
  {
   "cell_type": "code",
   "execution_count": 2,
   "id": "8c8980a3",
   "metadata": {},
   "outputs": [
    {
     "data": {
      "text/html": [
       "<div>\n",
       "<style scoped>\n",
       "    .dataframe tbody tr th:only-of-type {\n",
       "        vertical-align: middle;\n",
       "    }\n",
       "\n",
       "    .dataframe tbody tr th {\n",
       "        vertical-align: top;\n",
       "    }\n",
       "\n",
       "    .dataframe thead th {\n",
       "        text-align: right;\n",
       "    }\n",
       "</style>\n",
       "<table border=\"1\" class=\"dataframe\">\n",
       "  <thead>\n",
       "    <tr style=\"text-align: right;\">\n",
       "      <th></th>\n",
       "      <th>CRIM</th>\n",
       "      <th>ZN</th>\n",
       "      <th>INDUS</th>\n",
       "      <th>CHAS</th>\n",
       "      <th>NOX</th>\n",
       "      <th>RM</th>\n",
       "      <th>AGE</th>\n",
       "      <th>DIS</th>\n",
       "      <th>RAD</th>\n",
       "      <th>TAX</th>\n",
       "      <th>PTRATIO</th>\n",
       "      <th>B</th>\n",
       "      <th>LSTAT</th>\n",
       "      <th>MEDV</th>\n",
       "    </tr>\n",
       "  </thead>\n",
       "  <tbody>\n",
       "    <tr>\n",
       "      <th>0</th>\n",
       "      <td>0.00632</td>\n",
       "      <td>18.0</td>\n",
       "      <td>2.31</td>\n",
       "      <td>0</td>\n",
       "      <td>0.538</td>\n",
       "      <td>6.575</td>\n",
       "      <td>65.2</td>\n",
       "      <td>4.0900</td>\n",
       "      <td>1</td>\n",
       "      <td>296.0</td>\n",
       "      <td>15.3</td>\n",
       "      <td>396.90</td>\n",
       "      <td>4.98</td>\n",
       "      <td>24.0</td>\n",
       "    </tr>\n",
       "    <tr>\n",
       "      <th>1</th>\n",
       "      <td>0.02731</td>\n",
       "      <td>0.0</td>\n",
       "      <td>7.07</td>\n",
       "      <td>0</td>\n",
       "      <td>0.469</td>\n",
       "      <td>6.421</td>\n",
       "      <td>78.9</td>\n",
       "      <td>4.9671</td>\n",
       "      <td>2</td>\n",
       "      <td>242.0</td>\n",
       "      <td>17.8</td>\n",
       "      <td>396.90</td>\n",
       "      <td>9.14</td>\n",
       "      <td>21.6</td>\n",
       "    </tr>\n",
       "    <tr>\n",
       "      <th>2</th>\n",
       "      <td>0.02729</td>\n",
       "      <td>0.0</td>\n",
       "      <td>7.07</td>\n",
       "      <td>0</td>\n",
       "      <td>0.469</td>\n",
       "      <td>7.185</td>\n",
       "      <td>61.1</td>\n",
       "      <td>4.9671</td>\n",
       "      <td>2</td>\n",
       "      <td>242.0</td>\n",
       "      <td>17.8</td>\n",
       "      <td>392.83</td>\n",
       "      <td>4.03</td>\n",
       "      <td>34.7</td>\n",
       "    </tr>\n",
       "    <tr>\n",
       "      <th>3</th>\n",
       "      <td>0.03237</td>\n",
       "      <td>0.0</td>\n",
       "      <td>2.18</td>\n",
       "      <td>0</td>\n",
       "      <td>0.458</td>\n",
       "      <td>6.998</td>\n",
       "      <td>45.8</td>\n",
       "      <td>6.0622</td>\n",
       "      <td>3</td>\n",
       "      <td>222.0</td>\n",
       "      <td>18.7</td>\n",
       "      <td>394.63</td>\n",
       "      <td>2.94</td>\n",
       "      <td>33.4</td>\n",
       "    </tr>\n",
       "    <tr>\n",
       "      <th>4</th>\n",
       "      <td>0.06905</td>\n",
       "      <td>0.0</td>\n",
       "      <td>2.18</td>\n",
       "      <td>0</td>\n",
       "      <td>0.458</td>\n",
       "      <td>7.147</td>\n",
       "      <td>54.2</td>\n",
       "      <td>6.0622</td>\n",
       "      <td>3</td>\n",
       "      <td>222.0</td>\n",
       "      <td>18.7</td>\n",
       "      <td>396.90</td>\n",
       "      <td>5.33</td>\n",
       "      <td>36.2</td>\n",
       "    </tr>\n",
       "  </tbody>\n",
       "</table>\n",
       "</div>"
      ],
      "text/plain": [
       "      CRIM    ZN  INDUS  CHAS    NOX     RM   AGE     DIS  RAD    TAX  \\\n",
       "0  0.00632  18.0   2.31     0  0.538  6.575  65.2  4.0900    1  296.0   \n",
       "1  0.02731   0.0   7.07     0  0.469  6.421  78.9  4.9671    2  242.0   \n",
       "2  0.02729   0.0   7.07     0  0.469  7.185  61.1  4.9671    2  242.0   \n",
       "3  0.03237   0.0   2.18     0  0.458  6.998  45.8  6.0622    3  222.0   \n",
       "4  0.06905   0.0   2.18     0  0.458  7.147  54.2  6.0622    3  222.0   \n",
       "\n",
       "   PTRATIO       B  LSTAT  MEDV  \n",
       "0     15.3  396.90   4.98  24.0  \n",
       "1     17.8  396.90   9.14  21.6  \n",
       "2     17.8  392.83   4.03  34.7  \n",
       "3     18.7  394.63   2.94  33.4  \n",
       "4     18.7  396.90   5.33  36.2  "
      ]
     },
     "execution_count": 2,
     "metadata": {},
     "output_type": "execute_result"
    }
   ],
   "source": [
    "header=['CRIM', 'ZN', 'INDUS', 'CHAS', 'NOX', 'RM', 'AGE', 'DIS', \n",
    "        'RAD', 'TAX', 'PTRATIO', 'B', 'LSTAT', 'MEDV']\n",
    "df = pd.read_csv(\"housing.csv\", names=header, delim_whitespace=True)\n",
    "df.head()"
   ]
  },
  {
   "cell_type": "code",
   "execution_count": 3,
   "id": "6d6708b8",
   "metadata": {},
   "outputs": [
    {
     "data": {
      "text/plain": [
       "(506, 14)"
      ]
     },
     "execution_count": 3,
     "metadata": {},
     "output_type": "execute_result"
    }
   ],
   "source": [
    "df.shape"
   ]
  },
  {
   "cell_type": "markdown",
   "id": "57b37086",
   "metadata": {},
   "source": [
    "###  First we need to scale the data "
   ]
  },
  {
   "cell_type": "code",
   "execution_count": 4,
   "id": "9d319eec",
   "metadata": {},
   "outputs": [],
   "source": [
    "from sklearn.preprocessing import StandardScaler"
   ]
  },
  {
   "cell_type": "code",
   "execution_count": 5,
   "id": "3b7532b0",
   "metadata": {},
   "outputs": [],
   "source": [
    "scaler=StandardScaler()"
   ]
  },
  {
   "cell_type": "code",
   "execution_count": 6,
   "id": "ce3d397c",
   "metadata": {},
   "outputs": [],
   "source": [
    "scaler.fit(df.drop('MEDV',axis=1))\n",
    "scaled_features = scaler.transform(df.drop('MEDV',axis=1))"
   ]
  },
  {
   "cell_type": "code",
   "execution_count": 7,
   "id": "ec6d5677",
   "metadata": {},
   "outputs": [
    {
     "data": {
      "text/html": [
       "<div>\n",
       "<style scoped>\n",
       "    .dataframe tbody tr th:only-of-type {\n",
       "        vertical-align: middle;\n",
       "    }\n",
       "\n",
       "    .dataframe tbody tr th {\n",
       "        vertical-align: top;\n",
       "    }\n",
       "\n",
       "    .dataframe thead th {\n",
       "        text-align: right;\n",
       "    }\n",
       "</style>\n",
       "<table border=\"1\" class=\"dataframe\">\n",
       "  <thead>\n",
       "    <tr style=\"text-align: right;\">\n",
       "      <th></th>\n",
       "      <th>CRIM</th>\n",
       "      <th>ZN</th>\n",
       "      <th>INDUS</th>\n",
       "      <th>CHAS</th>\n",
       "      <th>NOX</th>\n",
       "      <th>RM</th>\n",
       "      <th>AGE</th>\n",
       "      <th>DIS</th>\n",
       "      <th>RAD</th>\n",
       "      <th>TAX</th>\n",
       "      <th>PTRATIO</th>\n",
       "      <th>B</th>\n",
       "      <th>LSTAT</th>\n",
       "    </tr>\n",
       "  </thead>\n",
       "  <tbody>\n",
       "    <tr>\n",
       "      <th>0</th>\n",
       "      <td>-0.419782</td>\n",
       "      <td>0.284830</td>\n",
       "      <td>-1.287909</td>\n",
       "      <td>-0.272599</td>\n",
       "      <td>-0.144217</td>\n",
       "      <td>0.413672</td>\n",
       "      <td>-0.120013</td>\n",
       "      <td>0.140214</td>\n",
       "      <td>-0.982843</td>\n",
       "      <td>-0.666608</td>\n",
       "      <td>-1.459000</td>\n",
       "      <td>0.441052</td>\n",
       "      <td>-1.075562</td>\n",
       "    </tr>\n",
       "    <tr>\n",
       "      <th>1</th>\n",
       "      <td>-0.417339</td>\n",
       "      <td>-0.487722</td>\n",
       "      <td>-0.593381</td>\n",
       "      <td>-0.272599</td>\n",
       "      <td>-0.740262</td>\n",
       "      <td>0.194274</td>\n",
       "      <td>0.367166</td>\n",
       "      <td>0.557160</td>\n",
       "      <td>-0.867883</td>\n",
       "      <td>-0.987329</td>\n",
       "      <td>-0.303094</td>\n",
       "      <td>0.441052</td>\n",
       "      <td>-0.492439</td>\n",
       "    </tr>\n",
       "    <tr>\n",
       "      <th>2</th>\n",
       "      <td>-0.417342</td>\n",
       "      <td>-0.487722</td>\n",
       "      <td>-0.593381</td>\n",
       "      <td>-0.272599</td>\n",
       "      <td>-0.740262</td>\n",
       "      <td>1.282714</td>\n",
       "      <td>-0.265812</td>\n",
       "      <td>0.557160</td>\n",
       "      <td>-0.867883</td>\n",
       "      <td>-0.987329</td>\n",
       "      <td>-0.303094</td>\n",
       "      <td>0.396427</td>\n",
       "      <td>-1.208727</td>\n",
       "    </tr>\n",
       "    <tr>\n",
       "      <th>3</th>\n",
       "      <td>-0.416750</td>\n",
       "      <td>-0.487722</td>\n",
       "      <td>-1.306878</td>\n",
       "      <td>-0.272599</td>\n",
       "      <td>-0.835284</td>\n",
       "      <td>1.016303</td>\n",
       "      <td>-0.809889</td>\n",
       "      <td>1.077737</td>\n",
       "      <td>-0.752922</td>\n",
       "      <td>-1.106115</td>\n",
       "      <td>0.113032</td>\n",
       "      <td>0.416163</td>\n",
       "      <td>-1.361517</td>\n",
       "    </tr>\n",
       "    <tr>\n",
       "      <th>4</th>\n",
       "      <td>-0.412482</td>\n",
       "      <td>-0.487722</td>\n",
       "      <td>-1.306878</td>\n",
       "      <td>-0.272599</td>\n",
       "      <td>-0.835284</td>\n",
       "      <td>1.228577</td>\n",
       "      <td>-0.511180</td>\n",
       "      <td>1.077737</td>\n",
       "      <td>-0.752922</td>\n",
       "      <td>-1.106115</td>\n",
       "      <td>0.113032</td>\n",
       "      <td>0.441052</td>\n",
       "      <td>-1.026501</td>\n",
       "    </tr>\n",
       "  </tbody>\n",
       "</table>\n",
       "</div>"
      ],
      "text/plain": [
       "       CRIM        ZN     INDUS      CHAS       NOX        RM       AGE  \\\n",
       "0 -0.419782  0.284830 -1.287909 -0.272599 -0.144217  0.413672 -0.120013   \n",
       "1 -0.417339 -0.487722 -0.593381 -0.272599 -0.740262  0.194274  0.367166   \n",
       "2 -0.417342 -0.487722 -0.593381 -0.272599 -0.740262  1.282714 -0.265812   \n",
       "3 -0.416750 -0.487722 -1.306878 -0.272599 -0.835284  1.016303 -0.809889   \n",
       "4 -0.412482 -0.487722 -1.306878 -0.272599 -0.835284  1.228577 -0.511180   \n",
       "\n",
       "        DIS       RAD       TAX   PTRATIO         B     LSTAT  \n",
       "0  0.140214 -0.982843 -0.666608 -1.459000  0.441052 -1.075562  \n",
       "1  0.557160 -0.867883 -0.987329 -0.303094  0.441052 -0.492439  \n",
       "2  0.557160 -0.867883 -0.987329 -0.303094  0.396427 -1.208727  \n",
       "3  1.077737 -0.752922 -1.106115  0.113032  0.416163 -1.361517  \n",
       "4  1.077737 -0.752922 -1.106115  0.113032  0.441052 -1.026501  "
      ]
     },
     "execution_count": 7,
     "metadata": {},
     "output_type": "execute_result"
    }
   ],
   "source": [
    "df_feat = pd.DataFrame(scaled_features,columns=df.columns[:-1])\n",
    "df_feat.head()"
   ]
  },
  {
   "cell_type": "markdown",
   "id": "953ee025",
   "metadata": {},
   "source": [
    "## Splitting the data into 60% train, 20% crossvalidation, 20% test"
   ]
  },
  {
   "cell_type": "code",
   "execution_count": 8,
   "id": "3f7672fe",
   "metadata": {},
   "outputs": [],
   "source": [
    "from sklearn.model_selection import train_test_split\n"
   ]
  },
  {
   "cell_type": "code",
   "execution_count": 9,
   "id": "d35dbcb1",
   "metadata": {},
   "outputs": [],
   "source": [
    "X_Train60, X_Test40, Y_Train60, Y_Test40 = train_test_split(scaled_features,df['MEDV'],\n",
    "                                                    test_size=0.40)\n",
    "X_cv, X_Test20, Y_cv, Y_test20 = train_test_split(X_Test40,Y_Test40,test_size=0.5)"
   ]
  },
  {
   "cell_type": "markdown",
   "id": "e12fe878",
   "metadata": {},
   "source": [
    "### Training the model for multiple degrees of Linear Regression"
   ]
  },
  {
   "cell_type": "code",
   "execution_count": 10,
   "id": "5607069a",
   "metadata": {},
   "outputs": [],
   "source": [
    "from sklearn.preprocessing import PolynomialFeatures\n",
    "from sklearn.linear_model import LinearRegression\n",
    "from sklearn.metrics import mean_squared_error,r2_score"
   ]
  },
  {
   "cell_type": "code",
   "execution_count": 11,
   "id": "c5bc62df",
   "metadata": {},
   "outputs": [
    {
     "name": "stdout",
     "output_type": "stream",
     "text": [
      "The smallest error is 11.942495496046158 with equivalent degree of 2\n"
     ]
    }
   ],
   "source": [
    "Mse=[]\n",
    "degrees=np.arange(1,10)\n",
    "for deg in degrees:\n",
    "    poly_features = PolynomialFeatures(degree=deg,include_bias=False)\n",
    "    x_poly_train=poly_features.fit_transform(X_Train60)\n",
    "    #Applying Linear Regression\n",
    "    poly_reg = LinearRegression()\n",
    "    model=poly_reg.fit(x_poly_train, Y_Train60)\n",
    "    #Comparing values with CV\n",
    "    x_poly_cv = poly_features.fit_transform(X_cv)\n",
    "    poly_predict = model.predict(x_poly_cv)\n",
    "    poly_mse = mean_squared_error(Y_cv, poly_predict)\n",
    "    Mse.append(poly_mse)\n",
    "min_deg=degrees[Mse.index(min(Mse))]\n",
    "\n",
    "print(\"The smallest error is {} with equivalent degree of {}\".format(min(Mse),min_deg))\n",
    "  "
   ]
  },
  {
   "cell_type": "code",
   "execution_count": 12,
   "id": "ca2ec778",
   "metadata": {},
   "outputs": [
    {
     "data": {
      "text/plain": [
       "Text(0.5, 1.0, 'Graph of predicted prices versus actual prices')"
      ]
     },
     "execution_count": 12,
     "metadata": {},
     "output_type": "execute_result"
    },
    {
     "data": {
      "image/png": "[encoded data removed]",
      "text/plain": [
       "<Figure size 432x288 with 1 Axes>"
      ]
     },
     "metadata": {
      "needs_background": "light"
     },
     "output_type": "display_data"
    }
   ],
   "source": [
    "#Applying the polynomial regression to Y_test\n",
    "poly_features_test=PolynomialFeatures(degree=min_deg,include_bias=False)\n",
    "x_poly_test=poly_features_test.fit_transform(X_Train60)\n",
    "#Applying Linear Regression\n",
    "poly_reg_test = LinearRegression()\n",
    "model2=poly_reg_test.fit(x_poly_test,Y_Train60)\n",
    "#Comparing values with Test\n",
    "poly_predict_test=poly_features_test.fit_transform(X_Test20)\n",
    "Y_predicted_test=model2.predict(poly_predict_test)\n",
    "\n",
    "poly_mse=mean_squared_error(Y_test20, Y_predicted_test)\n",
    "plt.scatter(Y_test20,Y_predicted_test);\n",
    "plt.xlabel(\"Actual Prices\")\n",
    "plt.ylabel(\"Predicted Prices\")\n",
    "plt.title(\"Graph of predicted prices versus actual prices\")\n"
   ]
  },
  {
   "cell_type": "markdown",
   "id": "ce68951c",
   "metadata": {},
   "source": [
    "## Applying Regularization"
   ]
  },
  {
   "cell_type": "code",
   "execution_count": 13,
   "id": "0a6c9c6c",
   "metadata": {},
   "outputs": [],
   "source": [
    "from sklearn.linear_model import Ridge"
   ]
  },
  {
   "cell_type": "code",
   "execution_count": 14,
   "id": "30e983b2",
   "metadata": {},
   "outputs": [
    {
     "name": "stdout",
     "output_type": "stream",
     "text": [
      "The smallest error is 11.63226665082311 with equivalent alpha of 10.24\n"
     ]
    }
   ],
   "source": [
    "alphas=[0.01,0.02,0.04,0.08,0.16,0.32,0.64,1.28,2.56,5.12,10.24]\n",
    "err_reg=[]\n",
    "for alpha in alphas:\n",
    "    ridge_feat=Ridge(alpha=alpha)\n",
    "    ridge_feat.fit(x_poly_test,Y_Train60)\n",
    "    #pred_train_reg= ridge_feat.predict(x_poly_test)\n",
    "    #Comparing values with Cv\n",
    "    x_poly_cv = poly_features_test.fit_transform(X_cv)\n",
    "    #x_reg_cv=ridge_feat.fit(x_poly_cv,Y_cv)\n",
    "    poly_reg_predict = ridge_feat.predict(x_poly_cv)\n",
    "    poly_reg_mse = mean_squared_error(Y_cv, poly_reg_predict)\n",
    "    err_reg.append(poly_reg_mse)\n",
    "min_alpha=alphas[err_reg.index(min(err_reg))]\n",
    "\n",
    "print(\"The smallest error is {} with equivalent alpha of {}\".format(min(err_reg),min_alpha))\n",
    "\n",
    "    "
   ]
  },
  {
   "cell_type": "code",
   "execution_count": 15,
   "id": "6bcca5a5",
   "metadata": {},
   "outputs": [
    {
     "name": "stdout",
     "output_type": "stream",
     "text": [
      "Mean square error after regularization 10.32280094673422\n"
     ]
    },
    {
     "data": {
      "text/plain": [
       "Text(0.5, 1.0, 'Graph of predicted prices versus actual prices')"
      ]
     },
     "execution_count": 15,
     "metadata": {},
     "output_type": "execute_result"
    },
    {
     "data": {
      "image/png": "[encoded data removed]",
      "text/plain": [
       "<Figure size 432x288 with 1 Axes>"
      ]
     },
     "metadata": {
      "needs_background": "light"
     },
     "output_type": "display_data"
    }
   ],
   "source": [
    "#Applying the regularization regression to Y_test\n",
    "ridge_test=Ridge(alpha=min_alpha)\n",
    "ridge_test.fit(x_poly_test,Y_Train60)\n",
    "\n",
    "#Comparing values with Test\n",
    "poly_reg_predict_test=poly_features_test.fit_transform(X_Test20)\n",
    "Y_reg_predicted_test=ridge_test.predict(poly_reg_predict_test)\n",
    "\n",
    "poly_mse_after_reg=mean_squared_error(Y_test20, Y_reg_predicted_test)\n",
    "print(\"Mean square error after regularization {}\".format(poly_mse_after_reg))\n",
    "plt.scatter(Y_test20,Y_reg_predicted_test);\n",
    "plt.xlabel(\"Actual Prices\")\n",
    "plt.ylabel(\"Predicted Prices\")\n",
    "plt.title(\"Graph of predicted prices versus actual prices\")"
   ]
  },
  {
   "cell_type": "code",
   "execution_count": 16,
   "id": "b78f6144",
   "metadata": {},
   "outputs": [
    {
     "name": "stdout",
     "output_type": "stream",
     "text": [
      "Coefficients are [-0.16518132 -0.22004029  0.07993473  0.10956269 -1.65723282  2.8494989\n",
      " -0.65254733 -2.12273394  0.604408   -0.93810919 -0.44049895  0.50034041\n",
      " -3.08864635  0.00415429  0.16970702  0.02244235  2.07583909 -0.27540794\n",
      "  0.51287633  0.35152902  0.11839388 -0.41172544  0.3027179  -0.04526202\n",
      " -0.01105991  0.15144452  0.21819525  0.10071944  0.02254913  0.22730017\n",
      "  0.10837193 -0.13281496 -0.19363646 -0.42343047  0.58623997  0.02392973\n",
      "  0.14514702 -0.33698192  0.45051829  0.44865451  0.8451974   0.18191915\n",
      "  0.57464972  0.87986308 -0.11426168  0.10429084 -0.41772831  0.32278847\n",
      " -0.29941209  0.3720529  -1.08347995 -0.48662291  0.30029675  0.30018503\n",
      " -0.22109211  0.78046587 -0.26305477 -0.01759353 -0.35544885 -0.2334601\n",
      " -0.27473089 -0.58950124  0.83933992 -1.22472144 -0.4530351  -0.67383831\n",
      " -0.45801337  0.60073125  0.05607987 -0.77517582  0.329819   -0.49645617\n",
      " -1.23236367 -1.111772   -0.43823798 -1.07399567  0.12989802  0.05225057\n",
      "  1.33819987  0.1834396  -0.03823105 -0.57211336 -1.02168424  1.01923938\n",
      " -0.93312811 -0.71634466 -0.2774207  -0.33912957  0.78000823 -0.51884132\n",
      "  0.92147486  0.23945217  0.21675148 -1.7180095   0.19761723  1.20605292\n",
      " -0.32264738 -0.8183311   0.09707448 -0.31675559 -0.3808676  -0.46886795\n",
      " -1.07393576  0.41528379]\n",
      "Intercept in 20.176749454576125\n"
     ]
    }
   ],
   "source": [
    "print(\"Coefficients are {}\".format(ridge_test.coef_))\n",
    "print(\"Intercept in {}\".format(ridge_test.intercept_))\n"
   ]
  },
  {
   "cell_type": "code",
   "execution_count": 17,
   "id": "6b19a937",
   "metadata": {},
   "outputs": [
    {
     "name": "stdout",
     "output_type": "stream",
     "text": [
      "Coefficient of determination (R^2) before regularization: 0.83\n",
      "Coefficient of determination (R^2) after regularization: 0.87\n"
     ]
    }
   ],
   "source": [
    "print('Coefficient of determination (R^2) before regularization: %.2f' %r2_score(Y_test20, Y_predicted_test))\n",
    "print('Coefficient of determination (R^2) after regularization: %.2f' %r2_score(Y_test20, Y_reg_predicted_test))"
   ]
  },
  {
   "cell_type": "markdown",
   "id": "f0e46667",
   "metadata": {},
   "source": [
    "We can conclude that the regularization improved the performance of the algorithm by 5% "
   ]
  },
  {
   "cell_type": "code",
   "execution_count": null,
   "id": "6ed741c2",
   "metadata": {},
   "outputs": [],
   "source": []
  }
 ],
 "metadata": {
  "kernelspec": {
   "display_name": "Python 3",
   "language": "python",
   "name": "python3"
  },
  "language_info": {
   "codemirror_mode": {
    "name": "ipython",
    "version": 3
   },
   "file_extension": ".py",
   "mimetype": "text/x-python",
   "name": "python",
   "nbconvert_exporter": "python",
   "pygments_lexer": "ipython3",
   "version": "3.8.8"
  }
 },
 "nbformat": 4,
 "nbformat_minor": 5
}
