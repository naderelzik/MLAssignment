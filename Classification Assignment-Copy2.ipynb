{
 "cells": [
  {
   "cell_type": "markdown",
   "id": "a0062f66",
   "metadata": {},
   "source": [
    "## Importing dataset"
   ]
  },
  {
   "cell_type": "code",
   "execution_count": 1,
   "id": "e9f41bd4",
   "metadata": {},
   "outputs": [],
   "source": [
    "import seaborn as sns \n",
    "import matplotlib.pyplot as plt\n",
    "import pandas as pd\n",
    "import numpy as np\n",
    "from sklearn.preprocessing import StandardScaler\n",
    "from sklearn.model_selection import train_test_split,StratifiedKFold,cross_val_score,KFold\n",
    "from sklearn.metrics import mean_squared_error,confusion_matrix,recall_score\n",
    "from sklearn.svm import SVC"
   ]
  },
  {
   "cell_type": "code",
   "execution_count": 2,
   "id": "efcef213",
   "metadata": {},
   "outputs": [
    {
     "data": {
      "text/plain": [
       "(6362620, 11)"
      ]
     },
     "execution_count": 2,
     "metadata": {},
     "output_type": "execute_result"
    }
   ],
   "source": [
    "df=pd.read_csv('PS_20174392719_1491204439457_log.csv')\n",
    "df.shape"
   ]
  },
  {
   "cell_type": "code",
   "execution_count": 3,
   "id": "4adeffc3",
   "metadata": {},
   "outputs": [
    {
     "data": {
      "text/html": [
       "<div>\n",
       "<style scoped>\n",
       "    .dataframe tbody tr th:only-of-type {\n",
       "        vertical-align: middle;\n",
       "    }\n",
       "\n",
       "    .dataframe tbody tr th {\n",
       "        vertical-align: top;\n",
       "    }\n",
       "\n",
       "    .dataframe thead th {\n",
       "        text-align: right;\n",
       "    }\n",
       "</style>\n",
       "<table border=\"1\" class=\"dataframe\">\n",
       "  <thead>\n",
       "    <tr style=\"text-align: right;\">\n",
       "      <th></th>\n",
       "      <th>step</th>\n",
       "      <th>type</th>\n",
       "      <th>amount</th>\n",
       "      <th>nameOrig</th>\n",
       "      <th>oldbalanceOrg</th>\n",
       "      <th>newbalanceOrig</th>\n",
       "      <th>nameDest</th>\n",
       "      <th>oldbalanceDest</th>\n",
       "      <th>newbalanceDest</th>\n",
       "      <th>isFraud</th>\n",
       "      <th>isFlaggedFraud</th>\n",
       "    </tr>\n",
       "  </thead>\n",
       "  <tbody>\n",
       "    <tr>\n",
       "      <th>0</th>\n",
       "      <td>1</td>\n",
       "      <td>PAYMENT</td>\n",
       "      <td>9839.64</td>\n",
       "      <td>C1231006815</td>\n",
       "      <td>170136.0</td>\n",
       "      <td>160296.36</td>\n",
       "      <td>M1979787155</td>\n",
       "      <td>0.0</td>\n",
       "      <td>0.0</td>\n",
       "      <td>0</td>\n",
       "      <td>0</td>\n",
       "    </tr>\n",
       "    <tr>\n",
       "      <th>1</th>\n",
       "      <td>1</td>\n",
       "      <td>PAYMENT</td>\n",
       "      <td>1864.28</td>\n",
       "      <td>C1666544295</td>\n",
       "      <td>21249.0</td>\n",
       "      <td>19384.72</td>\n",
       "      <td>M2044282225</td>\n",
       "      <td>0.0</td>\n",
       "      <td>0.0</td>\n",
       "      <td>0</td>\n",
       "      <td>0</td>\n",
       "    </tr>\n",
       "    <tr>\n",
       "      <th>2</th>\n",
       "      <td>1</td>\n",
       "      <td>TRANSFER</td>\n",
       "      <td>181.00</td>\n",
       "      <td>C1305486145</td>\n",
       "      <td>181.0</td>\n",
       "      <td>0.00</td>\n",
       "      <td>C553264065</td>\n",
       "      <td>0.0</td>\n",
       "      <td>0.0</td>\n",
       "      <td>1</td>\n",
       "      <td>0</td>\n",
       "    </tr>\n",
       "    <tr>\n",
       "      <th>3</th>\n",
       "      <td>1</td>\n",
       "      <td>CASH_OUT</td>\n",
       "      <td>181.00</td>\n",
       "      <td>C840083671</td>\n",
       "      <td>181.0</td>\n",
       "      <td>0.00</td>\n",
       "      <td>C38997010</td>\n",
       "      <td>21182.0</td>\n",
       "      <td>0.0</td>\n",
       "      <td>1</td>\n",
       "      <td>0</td>\n",
       "    </tr>\n",
       "    <tr>\n",
       "      <th>4</th>\n",
       "      <td>1</td>\n",
       "      <td>PAYMENT</td>\n",
       "      <td>11668.14</td>\n",
       "      <td>C2048537720</td>\n",
       "      <td>41554.0</td>\n",
       "      <td>29885.86</td>\n",
       "      <td>M1230701703</td>\n",
       "      <td>0.0</td>\n",
       "      <td>0.0</td>\n",
       "      <td>0</td>\n",
       "      <td>0</td>\n",
       "    </tr>\n",
       "  </tbody>\n",
       "</table>\n",
       "</div>"
      ],
      "text/plain": [
       "   step      type    amount     nameOrig  oldbalanceOrg  newbalanceOrig  \\\n",
       "0     1   PAYMENT   9839.64  C1231006815       170136.0       160296.36   \n",
       "1     1   PAYMENT   1864.28  C1666544295        21249.0        19384.72   \n",
       "2     1  TRANSFER    181.00  C1305486145          181.0            0.00   \n",
       "3     1  CASH_OUT    181.00   C840083671          181.0            0.00   \n",
       "4     1   PAYMENT  11668.14  C2048537720        41554.0        29885.86   \n",
       "\n",
       "      nameDest  oldbalanceDest  newbalanceDest  isFraud  isFlaggedFraud  \n",
       "0  M1979787155             0.0             0.0        0               0  \n",
       "1  M2044282225             0.0             0.0        0               0  \n",
       "2   C553264065             0.0             0.0        1               0  \n",
       "3    C38997010         21182.0             0.0        1               0  \n",
       "4  M1230701703             0.0             0.0        0               0  "
      ]
     },
     "execution_count": 3,
     "metadata": {},
     "output_type": "execute_result"
    }
   ],
   "source": [
    "df.head()"
   ]
  },
  {
   "cell_type": "markdown",
   "id": "d5e969ae",
   "metadata": {},
   "source": [
    "## In this step we will try to seek the relation between the two names column and target variable"
   ]
  },
  {
   "cell_type": "markdown",
   "id": "902dcb3e",
   "metadata": {},
   "source": [
    "### We will encode the two string columns then find the correlation between them and the target variable"
   ]
  },
  {
   "cell_type": "markdown",
   "id": "3a1b2275",
   "metadata": {},
   "source": [
    "Since the dataset is too large we will take half of it to perform the operation we tried before taking 10%,5% and 25% of the total data and the results were approxamitely the same"
   ]
  },
  {
   "cell_type": "code",
   "execution_count": 4,
   "id": "70974284",
   "metadata": {},
   "outputs": [],
   "source": [
    "nameOrig_encoded=df.sample(frac=0.5)['nameOrig']=df['nameOrig'].astype('category').cat.codes\n",
    "isFraud_encoded=df.sample(frac=0.5)['isFraud']=df['isFraud'].astype('category').cat.codes\n",
    "nameDest_encoded=df.sample(frac=0.5)['nameDest']=df['nameDest'].astype('category').cat.codes"
   ]
  },
  {
   "cell_type": "code",
   "execution_count": 5,
   "id": "1757d911",
   "metadata": {},
   "outputs": [
    {
     "name": "stdout",
     "output_type": "stream",
     "text": [
      "The correlation coefficient between column nameOrig and target variable is -0.0004637760228697384\n",
      "The correlation coefficient between column nameDest and target variable is -0.021963429581900222\n"
     ]
    }
   ],
   "source": [
    "corr_1=nameOrig_encoded.corr(isFraud_encoded)\n",
    "print(\"The correlation coefficient between column nameOrig and target variable is\",corr_1)\n",
    "corr_2=nameDest_encoded.corr(isFraud_encoded)\n",
    "print(\"The correlation coefficient between column nameDest and target variable is\",corr_2)"
   ]
  },
  {
   "cell_type": "markdown",
   "id": "4b4ec9a7",
   "metadata": {},
   "source": [
    "From the above calculations the column nameOrig does not have any relation with the target variable so it will be dropped from the dataset"
   ]
  },
  {
   "cell_type": "code",
   "execution_count": 6,
   "id": "6d526597",
   "metadata": {},
   "outputs": [
    {
     "data": {
      "text/html": [
       "<div>\n",
       "<style scoped>\n",
       "    .dataframe tbody tr th:only-of-type {\n",
       "        vertical-align: middle;\n",
       "    }\n",
       "\n",
       "    .dataframe tbody tr th {\n",
       "        vertical-align: top;\n",
       "    }\n",
       "\n",
       "    .dataframe thead th {\n",
       "        text-align: right;\n",
       "    }\n",
       "</style>\n",
       "<table border=\"1\" class=\"dataframe\">\n",
       "  <thead>\n",
       "    <tr style=\"text-align: right;\">\n",
       "      <th></th>\n",
       "      <th>step</th>\n",
       "      <th>type</th>\n",
       "      <th>amount</th>\n",
       "      <th>oldbalanceOrg</th>\n",
       "      <th>newbalanceOrig</th>\n",
       "      <th>nameDest</th>\n",
       "      <th>oldbalanceDest</th>\n",
       "      <th>newbalanceDest</th>\n",
       "      <th>isFraud</th>\n",
       "      <th>isFlaggedFraud</th>\n",
       "    </tr>\n",
       "  </thead>\n",
       "  <tbody>\n",
       "    <tr>\n",
       "      <th>0</th>\n",
       "      <td>1</td>\n",
       "      <td>PAYMENT</td>\n",
       "      <td>9839.64</td>\n",
       "      <td>170136.0</td>\n",
       "      <td>160296.36</td>\n",
       "      <td>M1979787155</td>\n",
       "      <td>0.0</td>\n",
       "      <td>0.0</td>\n",
       "      <td>0</td>\n",
       "      <td>0</td>\n",
       "    </tr>\n",
       "    <tr>\n",
       "      <th>1</th>\n",
       "      <td>1</td>\n",
       "      <td>PAYMENT</td>\n",
       "      <td>1864.28</td>\n",
       "      <td>21249.0</td>\n",
       "      <td>19384.72</td>\n",
       "      <td>M2044282225</td>\n",
       "      <td>0.0</td>\n",
       "      <td>0.0</td>\n",
       "      <td>0</td>\n",
       "      <td>0</td>\n",
       "    </tr>\n",
       "    <tr>\n",
       "      <th>2</th>\n",
       "      <td>1</td>\n",
       "      <td>TRANSFER</td>\n",
       "      <td>181.00</td>\n",
       "      <td>181.0</td>\n",
       "      <td>0.00</td>\n",
       "      <td>C553264065</td>\n",
       "      <td>0.0</td>\n",
       "      <td>0.0</td>\n",
       "      <td>1</td>\n",
       "      <td>0</td>\n",
       "    </tr>\n",
       "    <tr>\n",
       "      <th>3</th>\n",
       "      <td>1</td>\n",
       "      <td>CASH_OUT</td>\n",
       "      <td>181.00</td>\n",
       "      <td>181.0</td>\n",
       "      <td>0.00</td>\n",
       "      <td>C38997010</td>\n",
       "      <td>21182.0</td>\n",
       "      <td>0.0</td>\n",
       "      <td>1</td>\n",
       "      <td>0</td>\n",
       "    </tr>\n",
       "    <tr>\n",
       "      <th>4</th>\n",
       "      <td>1</td>\n",
       "      <td>PAYMENT</td>\n",
       "      <td>11668.14</td>\n",
       "      <td>41554.0</td>\n",
       "      <td>29885.86</td>\n",
       "      <td>M1230701703</td>\n",
       "      <td>0.0</td>\n",
       "      <td>0.0</td>\n",
       "      <td>0</td>\n",
       "      <td>0</td>\n",
       "    </tr>\n",
       "  </tbody>\n",
       "</table>\n",
       "</div>"
      ],
      "text/plain": [
       "   step      type    amount  oldbalanceOrg  newbalanceOrig     nameDest  \\\n",
       "0     1   PAYMENT   9839.64       170136.0       160296.36  M1979787155   \n",
       "1     1   PAYMENT   1864.28        21249.0        19384.72  M2044282225   \n",
       "2     1  TRANSFER    181.00          181.0            0.00   C553264065   \n",
       "3     1  CASH_OUT    181.00          181.0            0.00    C38997010   \n",
       "4     1   PAYMENT  11668.14        41554.0        29885.86  M1230701703   \n",
       "\n",
       "   oldbalanceDest  newbalanceDest  isFraud  isFlaggedFraud  \n",
       "0             0.0             0.0        0               0  \n",
       "1             0.0             0.0        0               0  \n",
       "2             0.0             0.0        1               0  \n",
       "3         21182.0             0.0        1               0  \n",
       "4             0.0             0.0        0               0  "
      ]
     },
     "execution_count": 6,
     "metadata": {},
     "output_type": "execute_result"
    }
   ],
   "source": [
    "df.drop('nameOrig',inplace=True,axis=1)\n",
    "df.head()"
   ]
  },
  {
   "cell_type": "markdown",
   "id": "503d593b",
   "metadata": {},
   "source": [
    "## Encoding column strings"
   ]
  },
  {
   "cell_type": "code",
   "execution_count": 7,
   "id": "fdd3023a",
   "metadata": {},
   "outputs": [
    {
     "data": {
      "text/plain": [
       "2722362"
      ]
     },
     "execution_count": 7,
     "metadata": {},
     "output_type": "execute_result"
    }
   ],
   "source": [
    "df['nameDest'].nunique()"
   ]
  },
  {
   "cell_type": "markdown",
   "id": "5d26a347",
   "metadata": {},
   "source": [
    "The column nameDest contain lots of unique values so if we encoded it using OHE or any other technique it will result to a massive dataset so we will take the first character from the column and encode it to reduce the unique values"
   ]
  },
  {
   "cell_type": "code",
   "execution_count": 8,
   "id": "1e5bcba1",
   "metadata": {},
   "outputs": [],
   "source": [
    "df['nameDest'] = df['nameDest'].astype(str).str[0]"
   ]
  },
  {
   "cell_type": "code",
   "execution_count": 9,
   "id": "b4c4bb7a",
   "metadata": {},
   "outputs": [
    {
     "data": {
      "text/plain": [
       "2"
      ]
     },
     "execution_count": 9,
     "metadata": {},
     "output_type": "execute_result"
    }
   ],
   "source": [
    "df['nameDest'].nunique()"
   ]
  },
  {
   "cell_type": "markdown",
   "id": "1bfb293f",
   "metadata": {},
   "source": [
    "Now the column nameDest is reduced to 2 unique values which can easily be encoded using any encoding technique"
   ]
  },
  {
   "cell_type": "code",
   "execution_count": 10,
   "id": "cfcf5f43",
   "metadata": {},
   "outputs": [
    {
     "data": {
      "text/html": [
       "<div>\n",
       "<style scoped>\n",
       "    .dataframe tbody tr th:only-of-type {\n",
       "        vertical-align: middle;\n",
       "    }\n",
       "\n",
       "    .dataframe tbody tr th {\n",
       "        vertical-align: top;\n",
       "    }\n",
       "\n",
       "    .dataframe thead th {\n",
       "        text-align: right;\n",
       "    }\n",
       "</style>\n",
       "<table border=\"1\" class=\"dataframe\">\n",
       "  <thead>\n",
       "    <tr style=\"text-align: right;\">\n",
       "      <th></th>\n",
       "      <th>step</th>\n",
       "      <th>amount</th>\n",
       "      <th>oldbalanceOrg</th>\n",
       "      <th>newbalanceOrig</th>\n",
       "      <th>oldbalanceDest</th>\n",
       "      <th>newbalanceDest</th>\n",
       "      <th>isFraud</th>\n",
       "      <th>isFlaggedFraud</th>\n",
       "      <th>type_CASH_IN</th>\n",
       "      <th>type_CASH_OUT</th>\n",
       "      <th>type_DEBIT</th>\n",
       "      <th>type_PAYMENT</th>\n",
       "      <th>type_TRANSFER</th>\n",
       "      <th>nameDest_C</th>\n",
       "      <th>nameDest_M</th>\n",
       "    </tr>\n",
       "  </thead>\n",
       "  <tbody>\n",
       "    <tr>\n",
       "      <th>0</th>\n",
       "      <td>1</td>\n",
       "      <td>9839.64</td>\n",
       "      <td>170136.0</td>\n",
       "      <td>160296.36</td>\n",
       "      <td>0.0</td>\n",
       "      <td>0.0</td>\n",
       "      <td>0</td>\n",
       "      <td>0</td>\n",
       "      <td>0</td>\n",
       "      <td>0</td>\n",
       "      <td>0</td>\n",
       "      <td>1</td>\n",
       "      <td>0</td>\n",
       "      <td>0</td>\n",
       "      <td>1</td>\n",
       "    </tr>\n",
       "    <tr>\n",
       "      <th>1</th>\n",
       "      <td>1</td>\n",
       "      <td>1864.28</td>\n",
       "      <td>21249.0</td>\n",
       "      <td>19384.72</td>\n",
       "      <td>0.0</td>\n",
       "      <td>0.0</td>\n",
       "      <td>0</td>\n",
       "      <td>0</td>\n",
       "      <td>0</td>\n",
       "      <td>0</td>\n",
       "      <td>0</td>\n",
       "      <td>1</td>\n",
       "      <td>0</td>\n",
       "      <td>0</td>\n",
       "      <td>1</td>\n",
       "    </tr>\n",
       "    <tr>\n",
       "      <th>2</th>\n",
       "      <td>1</td>\n",
       "      <td>181.00</td>\n",
       "      <td>181.0</td>\n",
       "      <td>0.00</td>\n",
       "      <td>0.0</td>\n",
       "      <td>0.0</td>\n",
       "      <td>1</td>\n",
       "      <td>0</td>\n",
       "      <td>0</td>\n",
       "      <td>0</td>\n",
       "      <td>0</td>\n",
       "      <td>0</td>\n",
       "      <td>1</td>\n",
       "      <td>1</td>\n",
       "      <td>0</td>\n",
       "    </tr>\n",
       "    <tr>\n",
       "      <th>3</th>\n",
       "      <td>1</td>\n",
       "      <td>181.00</td>\n",
       "      <td>181.0</td>\n",
       "      <td>0.00</td>\n",
       "      <td>21182.0</td>\n",
       "      <td>0.0</td>\n",
       "      <td>1</td>\n",
       "      <td>0</td>\n",
       "      <td>0</td>\n",
       "      <td>1</td>\n",
       "      <td>0</td>\n",
       "      <td>0</td>\n",
       "      <td>0</td>\n",
       "      <td>1</td>\n",
       "      <td>0</td>\n",
       "    </tr>\n",
       "    <tr>\n",
       "      <th>4</th>\n",
       "      <td>1</td>\n",
       "      <td>11668.14</td>\n",
       "      <td>41554.0</td>\n",
       "      <td>29885.86</td>\n",
       "      <td>0.0</td>\n",
       "      <td>0.0</td>\n",
       "      <td>0</td>\n",
       "      <td>0</td>\n",
       "      <td>0</td>\n",
       "      <td>0</td>\n",
       "      <td>0</td>\n",
       "      <td>1</td>\n",
       "      <td>0</td>\n",
       "      <td>0</td>\n",
       "      <td>1</td>\n",
       "    </tr>\n",
       "  </tbody>\n",
       "</table>\n",
       "</div>"
      ],
      "text/plain": [
       "   step    amount  oldbalanceOrg  newbalanceOrig  oldbalanceDest  \\\n",
       "0     1   9839.64       170136.0       160296.36             0.0   \n",
       "1     1   1864.28        21249.0        19384.72             0.0   \n",
       "2     1    181.00          181.0            0.00             0.0   \n",
       "3     1    181.00          181.0            0.00         21182.0   \n",
       "4     1  11668.14        41554.0        29885.86             0.0   \n",
       "\n",
       "   newbalanceDest  isFraud  isFlaggedFraud  type_CASH_IN  type_CASH_OUT  \\\n",
       "0             0.0        0               0             0              0   \n",
       "1             0.0        0               0             0              0   \n",
       "2             0.0        1               0             0              0   \n",
       "3             0.0        1               0             0              1   \n",
       "4             0.0        0               0             0              0   \n",
       "\n",
       "   type_DEBIT  type_PAYMENT  type_TRANSFER  nameDest_C  nameDest_M  \n",
       "0           0             1              0           0           1  \n",
       "1           0             1              0           0           1  \n",
       "2           0             0              1           1           0  \n",
       "3           0             0              0           1           0  \n",
       "4           0             1              0           0           1  "
      ]
     },
     "execution_count": 10,
     "metadata": {},
     "output_type": "execute_result"
    }
   ],
   "source": [
    "df=pd.get_dummies(df,columns=['type','nameDest'])\n",
    "df.head()"
   ]
  },
  {
   "cell_type": "markdown",
   "id": "ba459444",
   "metadata": {},
   "source": [
    "## Scaling data"
   ]
  },
  {
   "cell_type": "markdown",
   "id": "fbccd71f",
   "metadata": {},
   "source": [
    "### In this section we will scale the data using StandardScaler and drop the target variable \"isFraud\" "
   ]
  },
  {
   "cell_type": "code",
   "execution_count": 11,
   "id": "7eb4e372",
   "metadata": {},
   "outputs": [],
   "source": [
    "df=df[['step','amount','oldbalanceOrg','newbalanceOrig','oldbalanceDest','newbalanceDest','isFlaggedFraud','type_CASH_IN',\n",
    "      'type_CASH_OUT','type_DEBIT','type_PAYMENT','type_TRANSFER','nameDest_C','nameDest_M','isFraud']]"
   ]
  },
  {
   "cell_type": "markdown",
   "id": "0487f213",
   "metadata": {},
   "source": [
    "Since the data is too large so we will only take a sample of it to analyze it"
   ]
  },
  {
   "cell_type": "code",
   "execution_count": 12,
   "id": "9a860740",
   "metadata": {},
   "outputs": [
    {
     "data": {
      "text/plain": [
       "(100000, 15)"
      ]
     },
     "execution_count": 12,
     "metadata": {},
     "output_type": "execute_result"
    }
   ],
   "source": [
    "df_sampled=df.sample(n=100000)\n",
    "df_sampled.shape"
   ]
  },
  {
   "cell_type": "code",
   "execution_count": 13,
   "id": "ab225c96",
   "metadata": {},
   "outputs": [],
   "source": [
    "scaler=StandardScaler()"
   ]
  },
  {
   "cell_type": "code",
   "execution_count": 14,
   "id": "552838c6",
   "metadata": {},
   "outputs": [],
   "source": [
    "scaler.fit(df_sampled.drop('isFraud',axis=1))\n",
    "scaled_features = scaler.transform(df_sampled.drop('isFraud',axis=1))"
   ]
  },
  {
   "cell_type": "code",
   "execution_count": 15,
   "id": "11509b06",
   "metadata": {},
   "outputs": [
    {
     "data": {
      "text/html": [
       "<div>\n",
       "<style scoped>\n",
       "    .dataframe tbody tr th:only-of-type {\n",
       "        vertical-align: middle;\n",
       "    }\n",
       "\n",
       "    .dataframe tbody tr th {\n",
       "        vertical-align: top;\n",
       "    }\n",
       "\n",
       "    .dataframe thead th {\n",
       "        text-align: right;\n",
       "    }\n",
       "</style>\n",
       "<table border=\"1\" class=\"dataframe\">\n",
       "  <thead>\n",
       "    <tr style=\"text-align: right;\">\n",
       "      <th></th>\n",
       "      <th>step</th>\n",
       "      <th>amount</th>\n",
       "      <th>oldbalanceOrg</th>\n",
       "      <th>newbalanceOrig</th>\n",
       "      <th>oldbalanceDest</th>\n",
       "      <th>newbalanceDest</th>\n",
       "      <th>isFlaggedFraud</th>\n",
       "      <th>type_CASH_IN</th>\n",
       "      <th>type_CASH_OUT</th>\n",
       "      <th>type_DEBIT</th>\n",
       "      <th>type_PAYMENT</th>\n",
       "      <th>type_TRANSFER</th>\n",
       "      <th>nameDest_C</th>\n",
       "      <th>nameDest_M</th>\n",
       "    </tr>\n",
       "  </thead>\n",
       "  <tbody>\n",
       "    <tr>\n",
       "      <th>0</th>\n",
       "      <td>-1.577725</td>\n",
       "      <td>0.873623</td>\n",
       "      <td>-0.287667</td>\n",
       "      <td>-0.291316</td>\n",
       "      <td>0.085377</td>\n",
       "      <td>0.297527</td>\n",
       "      <td>-0.003162</td>\n",
       "      <td>-0.528887</td>\n",
       "      <td>1.348867</td>\n",
       "      <td>-0.082499</td>\n",
       "      <td>-0.715343</td>\n",
       "      <td>-0.297839</td>\n",
       "      <td>0.715343</td>\n",
       "      <td>-0.715343</td>\n",
       "    </tr>\n",
       "    <tr>\n",
       "      <th>1</th>\n",
       "      <td>-0.559964</td>\n",
       "      <td>-0.166994</td>\n",
       "      <td>-0.268038</td>\n",
       "      <td>-0.291316</td>\n",
       "      <td>-0.315193</td>\n",
       "      <td>-0.302599</td>\n",
       "      <td>-0.003162</td>\n",
       "      <td>-0.528887</td>\n",
       "      <td>-0.741363</td>\n",
       "      <td>-0.082499</td>\n",
       "      <td>-0.715343</td>\n",
       "      <td>3.357521</td>\n",
       "      <td>0.715343</td>\n",
       "      <td>-0.715343</td>\n",
       "    </tr>\n",
       "    <tr>\n",
       "      <th>2</th>\n",
       "      <td>-1.549649</td>\n",
       "      <td>-0.283541</td>\n",
       "      <td>-0.287667</td>\n",
       "      <td>-0.291316</td>\n",
       "      <td>-0.315193</td>\n",
       "      <td>-0.322374</td>\n",
       "      <td>-0.003162</td>\n",
       "      <td>-0.528887</td>\n",
       "      <td>-0.741363</td>\n",
       "      <td>-0.082499</td>\n",
       "      <td>1.397931</td>\n",
       "      <td>-0.297839</td>\n",
       "      <td>-1.397931</td>\n",
       "      <td>1.397931</td>\n",
       "    </tr>\n",
       "    <tr>\n",
       "      <th>3</th>\n",
       "      <td>-0.728421</td>\n",
       "      <td>-0.278574</td>\n",
       "      <td>-0.287605</td>\n",
       "      <td>-0.291316</td>\n",
       "      <td>-0.315193</td>\n",
       "      <td>-0.322374</td>\n",
       "      <td>-0.003162</td>\n",
       "      <td>-0.528887</td>\n",
       "      <td>-0.741363</td>\n",
       "      <td>-0.082499</td>\n",
       "      <td>1.397931</td>\n",
       "      <td>-0.297839</td>\n",
       "      <td>-1.397931</td>\n",
       "      <td>1.397931</td>\n",
       "    </tr>\n",
       "    <tr>\n",
       "      <th>4</th>\n",
       "      <td>-0.054593</td>\n",
       "      <td>-0.244676</td>\n",
       "      <td>-0.287667</td>\n",
       "      <td>-0.291316</td>\n",
       "      <td>0.022827</td>\n",
       "      <td>-0.005144</td>\n",
       "      <td>-0.003162</td>\n",
       "      <td>-0.528887</td>\n",
       "      <td>1.348867</td>\n",
       "      <td>-0.082499</td>\n",
       "      <td>-0.715343</td>\n",
       "      <td>-0.297839</td>\n",
       "      <td>0.715343</td>\n",
       "      <td>-0.715343</td>\n",
       "    </tr>\n",
       "  </tbody>\n",
       "</table>\n",
       "</div>"
      ],
      "text/plain": [
       "       step    amount  oldbalanceOrg  newbalanceOrig  oldbalanceDest  \\\n",
       "0 -1.577725  0.873623      -0.287667       -0.291316        0.085377   \n",
       "1 -0.559964 -0.166994      -0.268038       -0.291316       -0.315193   \n",
       "2 -1.549649 -0.283541      -0.287667       -0.291316       -0.315193   \n",
       "3 -0.728421 -0.278574      -0.287605       -0.291316       -0.315193   \n",
       "4 -0.054593 -0.244676      -0.287667       -0.291316        0.022827   \n",
       "\n",
       "   newbalanceDest  isFlaggedFraud  type_CASH_IN  type_CASH_OUT  type_DEBIT  \\\n",
       "0        0.297527       -0.003162     -0.528887       1.348867   -0.082499   \n",
       "1       -0.302599       -0.003162     -0.528887      -0.741363   -0.082499   \n",
       "2       -0.322374       -0.003162     -0.528887      -0.741363   -0.082499   \n",
       "3       -0.322374       -0.003162     -0.528887      -0.741363   -0.082499   \n",
       "4       -0.005144       -0.003162     -0.528887       1.348867   -0.082499   \n",
       "\n",
       "   type_PAYMENT  type_TRANSFER  nameDest_C  nameDest_M  \n",
       "0     -0.715343      -0.297839    0.715343   -0.715343  \n",
       "1     -0.715343       3.357521    0.715343   -0.715343  \n",
       "2      1.397931      -0.297839   -1.397931    1.397931  \n",
       "3      1.397931      -0.297839   -1.397931    1.397931  \n",
       "4     -0.715343      -0.297839    0.715343   -0.715343  "
      ]
     },
     "execution_count": 15,
     "metadata": {},
     "output_type": "execute_result"
    }
   ],
   "source": [
    "df_scaled = pd.DataFrame(scaled_features,columns=df.columns[:-1])\n",
    "df_scaled.head()"
   ]
  },
  {
   "cell_type": "markdown",
   "id": "d77fac61",
   "metadata": {},
   "source": [
    "Split data into 80% train 20% test"
   ]
  },
  {
   "cell_type": "code",
   "execution_count": 16,
   "id": "6acc7435",
   "metadata": {},
   "outputs": [],
   "source": [
    "X_Train80, X_Test20, Y_Train80, Y_Test20 = train_test_split(scaled_features,df_sampled['isFraud'],\n",
    "                                                    test_size=0.2)"
   ]
  },
  {
   "cell_type": "code",
   "execution_count": 17,
   "id": "6db49c2e",
   "metadata": {},
   "outputs": [],
   "source": [
    "Y_Train80=Y_Train80.to_numpy()"
   ]
  },
  {
   "cell_type": "markdown",
   "id": "53aaef6a",
   "metadata": {},
   "source": [
    "# SVM classification without using KFold"
   ]
  },
  {
   "cell_type": "code",
   "execution_count": 18,
   "id": "d469aadd",
   "metadata": {},
   "outputs": [
    {
     "name": "stdout",
     "output_type": "stream",
     "text": [
      "Array of scores is [0.21621621621621623, 0.21621621621621623, 0.2702702702702703, 0.32432432432432434, 0.32432432432432434, 0.35135135135135137, 0.3783783783783784]\n",
      "Length 7\n",
      "Highest score is 0.3783783783783784 and degree of 8\n"
     ]
    }
   ],
   "source": [
    "degrees=list(np.arange(2,9))\n",
    "scores_without_kfold=[]\n",
    "for deg in degrees:\n",
    "    clf = SVC(kernel='poly',degree=deg)\n",
    "    clf.fit(X_Train80,Y_Train80)\n",
    "    Y_pred_without_kfold = clf.predict(X_Test20)\n",
    "    scores_without_kfold.append(recall_score(Y_Test20,Y_pred_without_kfold))\n",
    "max_deg_without_kfold=degrees[np.argmax(scores_without_kfold)]\n",
    "print(\"Array of scores is\",scores_without_kfold)\n",
    "print(\"Length\",len(scores_without_kfold))\n",
    "## Displaying the highest score without the use of kFold \n",
    "print(\"Highest score is {} and degree of {}\".format(max(scores_without_kfold),max_deg_without_kfold))\n",
    "\n",
    "    \n",
    "    "
   ]
  },
  {
   "cell_type": "markdown",
   "id": "b20e6220",
   "metadata": {},
   "source": [
    "# SVM classification after using KFold"
   ]
  },
  {
   "cell_type": "code",
   "execution_count": 19,
   "id": "ad91e8a0",
   "metadata": {},
   "outputs": [
    {
     "name": "stdout",
     "output_type": "stream",
     "text": [
      "TRAIN: [ 8000  8001  8002 ... 79997 79998 79999] TEST: [   0    1    2 ... 7997 7998 7999]\n",
      "TRAIN: [    0     1     2 ... 79997 79998 79999] TEST: [ 8000  8001  8002 ... 15997 15998 15999]\n",
      "TRAIN: [    0     1     2 ... 79997 79998 79999] TEST: [16000 16001 16002 ... 23997 23998 23999]\n",
      "TRAIN: [    0     1     2 ... 79997 79998 79999] TEST: [24000 24001 24002 ... 31997 31998 31999]\n",
      "TRAIN: [    0     1     2 ... 79997 79998 79999] TEST: [32000 32001 32002 ... 39997 39998 39999]\n",
      "TRAIN: [    0     1     2 ... 79997 79998 79999] TEST: [40000 40001 40002 ... 47997 47998 47999]\n",
      "TRAIN: [    0     1     2 ... 79997 79998 79999] TEST: [48000 48001 48002 ... 55997 55998 55999]\n",
      "TRAIN: [    0     1     2 ... 79997 79998 79999] TEST: [56000 56001 56002 ... 63997 63998 63999]\n",
      "TRAIN: [    0     1     2 ... 79997 79998 79999] TEST: [64000 64001 64002 ... 71997 71998 71999]\n",
      "TRAIN: [    0     1     2 ... 71997 71998 71999] TEST: [72000 72001 72002 ... 79997 79998 79999]\n",
      "Array of scores is [0.16666666666666666, 0.16666666666666666, 0.25, 0.25, 0.25, 0.25, 0.25, 0.18181818181818182, 0.18181818181818182, 0.18181818181818182, 0.18181818181818182, 0.18181818181818182, 0.18181818181818182, 0.18181818181818182, 0.0, 0.0, 0.0, 0.16666666666666666, 0.16666666666666666, 0.16666666666666666, 0.16666666666666666, 0.1111111111111111, 0.1111111111111111, 0.1111111111111111, 0.1111111111111111, 0.1111111111111111, 0.1111111111111111, 0.1111111111111111, 0.2, 0.2, 0.2, 0.3, 0.5, 0.6, 0.6, 0.14285714285714285, 0.14285714285714285, 0.14285714285714285, 0.14285714285714285, 0.14285714285714285, 0.14285714285714285, 0.14285714285714285, 0.0, 0.0, 0.0, 0.0, 0.0, 0.0, 0.0, 0.1, 0.2, 0.2, 0.2, 0.2, 0.2, 0.3, 0.1, 0.1, 0.1, 0.1, 0.1, 0.1, 0.1, 0.2857142857142857, 0.2857142857142857, 0.35714285714285715, 0.35714285714285715, 0.35714285714285715, 0.35714285714285715, 0.35714285714285715]\n",
      "The maximum degree is 2\n",
      "Highest score is 0.6 for train data [[ 2.26169088  0.03504924 -0.28766666 ... -0.29783875  0.71534313\n",
      "  -0.71534313]\n",
      " [-0.57400236 -0.25070383 -0.28730924 ... -0.29783875 -1.39793052\n",
      "   1.39793052]\n",
      " [ 0.92807277  0.40638166 -0.28193106 ... -0.29783875  0.71534313\n",
      "  -0.71534313]\n",
      " ...\n",
      " [-0.06863129 -0.28204048  0.29004633 ... -0.29783875  0.71534313\n",
      "  -0.71534313]\n",
      " [ 0.94211086 -0.19406216  1.59862488 ... -0.29783875  0.71534313\n",
      "  -0.71534313]\n",
      " [ 1.0473965  -0.26368203 -0.26259108 ... -0.29783875 -1.39793052\n",
      "   1.39793052]] and [0 0 0 ... 0 0 0], cv_data of [[-0.09670746  0.10672758 -0.25195031 ... -0.29783875  0.71534313\n",
      "  -0.71534313]\n",
      " [-0.80563077 -0.27111604 -0.27872906 ... -0.29783875 -1.39793052\n",
      "   1.39793052]\n",
      " [ 0.0436734   0.19716679 -0.28766666 ... -0.29783875  0.71534313\n",
      "  -0.71534313]\n",
      " ...\n",
      " [-1.45840174 -0.04226282 -0.2825286  ... -0.29783875  0.71534313\n",
      "  -0.71534313]\n",
      " [ 0.5701016  -0.19668585 -0.2860863  ... -0.29783875  0.71534313\n",
      "  -0.71534313]\n",
      " [-1.60580163 -0.03537982 -0.2720299  ... -0.29783875  0.71534313\n",
      "  -0.71534313]] and [0 0 0 ... 0 0 0] and degree of 2\n"
     ]
    }
   ],
   "source": [
    "kf = KFold(n_splits=10)\n",
    "arr_train_index=[]\n",
    "arr_test_index=[]\n",
    "scores=[]\n",
    "\n",
    "x_train_arr=[]\n",
    "x_cv_arr=[]\n",
    "y_train_arr=[]\n",
    "y_cv_arr=[]\n",
    "degrees_arr=degrees*kf.get_n_splits(X_Train80)\n",
    "for train_index, test_index in kf.split(X_Train80):\n",
    "    print(\"TRAIN:\", train_index, \"TEST:\", test_index)\n",
    "    arr_train_index.append(train_index)\n",
    "    arr_test_index.append(test_index)\n",
    "    X_train_fold, X_cv_fold = X_Train80[train_index], X_Train80[test_index]\n",
    "    y_train_fold, y_cv_fold = Y_Train80[train_index], Y_Train80[test_index]\n",
    "    for degree in degrees:\n",
    "        clf = SVC(kernel='poly',degree=degree)\n",
    "        clf.fit(X_train_fold,y_train_fold)\n",
    "        Y_pred = clf.predict(X_cv_fold)\n",
    "        scores.append(recall_score(y_cv_fold,Y_pred))\n",
    "        x_train_arr.append(X_train_fold)\n",
    "        x_cv_arr.append(X_cv_fold)\n",
    "        y_train_arr.append(y_train_fold)\n",
    "        y_cv_arr.append(y_cv_fold)\n",
    "        \n",
    "max_x_train_data=x_train_arr[np.argmax(scores)]\n",
    "max_y_train_data=y_train_arr[np.argmax(scores)]\n",
    "max_x_cv_data=x_cv_arr[np.argmax(scores)]\n",
    "max_y_cv_data=y_cv_arr[np.argmax(scores)]\n",
    "max_deg=degrees_arr[np.argmax(np.argmax(scores))]\n",
    "print(\"Highest score is {} for train data {} and {}, cv_data of {} and {} and degree of {}\".format(max(scores),max_x_train_data,\n",
    "                                                                                 max_y_train_data,max_x_cv_data,max_y_cv_data,\n",
    "                                                                                 max_deg))\n",
    "            \n",
    "    \n",
    "    \n",
    "    \n",
    "    \n",
    "    "
   ]
  },
  {
   "cell_type": "markdown",
   "id": "c6831dc9",
   "metadata": {},
   "source": [
    "We can see the score after the kfold is so much higher than before applying KFold and the degree is different than before applying kFold"
   ]
  },
  {
   "cell_type": "markdown",
   "id": "11539383",
   "metadata": {},
   "source": [
    "## Testing with the optimum train data and cv data "
   ]
  },
  {
   "cell_type": "code",
   "execution_count": 20,
   "id": "0dfaab46",
   "metadata": {},
   "outputs": [],
   "source": [
    "clf = SVC(kernel='poly',degree=max_deg)\n",
    "clf.fit(max_x_train_data,max_y_train_data)\n",
    "Y_pred_final = clf.predict(X_Test20)\n",
    "final_score=recall_score(Y_Test20,Y_pred_final)"
   ]
  },
  {
   "cell_type": "code",
   "execution_count": 21,
   "id": "f8aa5802",
   "metadata": {},
   "outputs": [
    {
     "name": "stdout",
     "output_type": "stream",
     "text": [
      "Final score is  0.21621621621621623\n"
     ]
    }
   ],
   "source": [
    "print(\"Final score is \",final_score)"
   ]
  },
  {
   "cell_type": "markdown",
   "id": "150c72d7",
   "metadata": {},
   "source": [
    "Score is not that high due to the imbalance of the target variable as we only took 100k sample from a data that contains 6 millions records but we can enhance this score by applying the regularization parameter."
   ]
  },
  {
   "cell_type": "markdown",
   "id": "bb1328fe",
   "metadata": {},
   "source": [
    "We can try to test with the original train and test data and monitor the score "
   ]
  },
  {
   "cell_type": "code",
   "execution_count": 25,
   "id": "1df44eec",
   "metadata": {},
   "outputs": [
    {
     "name": "stdout",
     "output_type": "stream",
     "text": [
      "Final score without Kfold for train and test data is 0.21621621621621623\n"
     ]
    }
   ],
   "source": [
    "clf = SVC(kernel='poly',degree=max_deg_without_kfold)\n",
    "clf.fit(X_Train80,Y_Train80)\n",
    "Y_pred_without_kFold= clf.predict(X_Test20)\n",
    "final_score_without_kFold=recall_score(Y_Test20,Y_pred_final)\n",
    "print(\"Final score without Kfold for train and test data is\",final_score_without_kFold)"
   ]
  },
  {
   "cell_type": "code",
   "execution_count": 23,
   "id": "54a50ba1",
   "metadata": {},
   "outputs": [],
   "source": [
    "clf = SVC(kernel='poly',degree=max_deg,C=10.24)\n",
    "clf.fit(max_x_train_data,max_y_train_data)\n",
    "Y_pred_final_after_reg = clf.predict(X_Test20)\n",
    "final_score_after_reg=recall_score(Y_Test20,Y_pred_final_after_reg)"
   ]
  },
  {
   "cell_type": "code",
   "execution_count": 24,
   "id": "19b5b217",
   "metadata": {},
   "outputs": [
    {
     "name": "stdout",
     "output_type": "stream",
     "text": [
      "Final score after regularization is 0.32432432432432434\n"
     ]
    }
   ],
   "source": [
    "print(\"Final score after regularization is\",final_score_after_reg)"
   ]
  },
  {
   "cell_type": "markdown",
   "id": "855f1e02",
   "metadata": {},
   "source": [
    "We can observe an enhancement of the score after entering this parameter"
   ]
  },
  {
   "cell_type": "markdown",
   "id": "0580fb47",
   "metadata": {},
   "source": [
    "## The scores before and after kFold are the same which is not regularly true but in this case it occured because the dataset's target isFraud is always labeled 0 "
   ]
  },
  {
   "cell_type": "code",
   "execution_count": null,
   "id": "096a4849",
   "metadata": {},
   "outputs": [],
   "source": []
  },
  {
   "cell_type": "code",
   "execution_count": null,
   "id": "61fcf9f9",
   "metadata": {},
   "outputs": [],
   "source": []
  }
 ],
 "metadata": {
  "kernelspec": {
   "display_name": "Python 3",
   "language": "python",
   "name": "python3"
  },
  "language_info": {
   "codemirror_mode": {
    "name": "ipython",
    "version": 3
   },
   "file_extension": ".py",
   "mimetype": "text/x-python",
   "name": "python",
   "nbconvert_exporter": "python",
   "pygments_lexer": "ipython3",
   "version": "3.8.8"
  }
 },
 "nbformat": 4,
 "nbformat_minor": 5
}
