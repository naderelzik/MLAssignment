{
 "cells": [
  {
   "cell_type": "markdown",
   "id": "a0062f66",
   "metadata": {},
   "source": [
    "## Importing dataset"
   ]
  },
  {
   "cell_type": "code",
   "execution_count": 1,
   "id": "e9f41bd4",
   "metadata": {},
   "outputs": [],
   "source": [
    "import seaborn as sns \n",
    "import matplotlib.pyplot as plt\n",
    "import pandas as pd\n",
    "import numpy as np\n",
    "from sklearn.preprocessing import StandardScaler\n",
    "from sklearn.model_selection import train_test_split,StratifiedKFold,cross_val_score,KFold\n",
    "from sklearn.metrics import mean_squared_error,confusion_matrix,recall_score\n",
    "from sklearn.svm import SVC"
   ]
  },
  {
   "cell_type": "code",
   "execution_count": 2,
   "id": "efcef213",
   "metadata": {},
   "outputs": [
    {
     "data": {
      "text/plain": [
       "(6362620, 11)"
      ]
     },
     "execution_count": 2,
     "metadata": {},
     "output_type": "execute_result"
    }
   ],
   "source": [
    "df=pd.read_csv('PS_20174392719_1491204439457_log.csv')\n",
    "df.shape"
   ]
  },
  {
   "cell_type": "code",
   "execution_count": 3,
   "id": "4adeffc3",
   "metadata": {},
   "outputs": [
    {
     "data": {
      "text/html": [
       "<div>\n",
       "<style scoped>\n",
       "    .dataframe tbody tr th:only-of-type {\n",
       "        vertical-align: middle;\n",
       "    }\n",
       "\n",
       "    .dataframe tbody tr th {\n",
       "        vertical-align: top;\n",
       "    }\n",
       "\n",
       "    .dataframe thead th {\n",
       "        text-align: right;\n",
       "    }\n",
       "</style>\n",
       "<table border=\"1\" class=\"dataframe\">\n",
       "  <thead>\n",
       "    <tr style=\"text-align: right;\">\n",
       "      <th></th>\n",
       "      <th>step</th>\n",
       "      <th>type</th>\n",
       "      <th>amount</th>\n",
       "      <th>nameOrig</th>\n",
       "      <th>oldbalanceOrg</th>\n",
       "      <th>newbalanceOrig</th>\n",
       "      <th>nameDest</th>\n",
       "      <th>oldbalanceDest</th>\n",
       "      <th>newbalanceDest</th>\n",
       "      <th>isFraud</th>\n",
       "      <th>isFlaggedFraud</th>\n",
       "    </tr>\n",
       "  </thead>\n",
       "  <tbody>\n",
       "    <tr>\n",
       "      <th>0</th>\n",
       "      <td>1</td>\n",
       "      <td>PAYMENT</td>\n",
       "      <td>9839.64</td>\n",
       "      <td>C1231006815</td>\n",
       "      <td>170136.0</td>\n",
       "      <td>160296.36</td>\n",
       "      <td>M1979787155</td>\n",
       "      <td>0.0</td>\n",
       "      <td>0.0</td>\n",
       "      <td>0</td>\n",
       "      <td>0</td>\n",
       "    </tr>\n",
       "    <tr>\n",
       "      <th>1</th>\n",
       "      <td>1</td>\n",
       "      <td>PAYMENT</td>\n",
       "      <td>1864.28</td>\n",
       "      <td>C1666544295</td>\n",
       "      <td>21249.0</td>\n",
       "      <td>19384.72</td>\n",
       "      <td>M2044282225</td>\n",
       "      <td>0.0</td>\n",
       "      <td>0.0</td>\n",
       "      <td>0</td>\n",
       "      <td>0</td>\n",
       "    </tr>\n",
       "    <tr>\n",
       "      <th>2</th>\n",
       "      <td>1</td>\n",
       "      <td>TRANSFER</td>\n",
       "      <td>181.00</td>\n",
       "      <td>C1305486145</td>\n",
       "      <td>181.0</td>\n",
       "      <td>0.00</td>\n",
       "      <td>C553264065</td>\n",
       "      <td>0.0</td>\n",
       "      <td>0.0</td>\n",
       "      <td>1</td>\n",
       "      <td>0</td>\n",
       "    </tr>\n",
       "    <tr>\n",
       "      <th>3</th>\n",
       "      <td>1</td>\n",
       "      <td>CASH_OUT</td>\n",
       "      <td>181.00</td>\n",
       "      <td>C840083671</td>\n",
       "      <td>181.0</td>\n",
       "      <td>0.00</td>\n",
       "      <td>C38997010</td>\n",
       "      <td>21182.0</td>\n",
       "      <td>0.0</td>\n",
       "      <td>1</td>\n",
       "      <td>0</td>\n",
       "    </tr>\n",
       "    <tr>\n",
       "      <th>4</th>\n",
       "      <td>1</td>\n",
       "      <td>PAYMENT</td>\n",
       "      <td>11668.14</td>\n",
       "      <td>C2048537720</td>\n",
       "      <td>41554.0</td>\n",
       "      <td>29885.86</td>\n",
       "      <td>M1230701703</td>\n",
       "      <td>0.0</td>\n",
       "      <td>0.0</td>\n",
       "      <td>0</td>\n",
       "      <td>0</td>\n",
       "    </tr>\n",
       "  </tbody>\n",
       "</table>\n",
       "</div>"
      ],
      "text/plain": [
       "   step      type    amount     nameOrig  oldbalanceOrg  newbalanceOrig  \\\n",
       "0     1   PAYMENT   9839.64  C1231006815       170136.0       160296.36   \n",
       "1     1   PAYMENT   1864.28  C1666544295        21249.0        19384.72   \n",
       "2     1  TRANSFER    181.00  C1305486145          181.0            0.00   \n",
       "3     1  CASH_OUT    181.00   C840083671          181.0            0.00   \n",
       "4     1   PAYMENT  11668.14  C2048537720        41554.0        29885.86   \n",
       "\n",
       "      nameDest  oldbalanceDest  newbalanceDest  isFraud  isFlaggedFraud  \n",
       "0  M1979787155             0.0             0.0        0               0  \n",
       "1  M2044282225             0.0             0.0        0               0  \n",
       "2   C553264065             0.0             0.0        1               0  \n",
       "3    C38997010         21182.0             0.0        1               0  \n",
       "4  M1230701703             0.0             0.0        0               0  "
      ]
     },
     "execution_count": 3,
     "metadata": {},
     "output_type": "execute_result"
    }
   ],
   "source": [
    "df.head()"
   ]
  },
  {
   "cell_type": "markdown",
   "id": "d5e969ae",
   "metadata": {},
   "source": [
    "## In this step we will try to seek the relation between the two names column and target variable"
   ]
  },
  {
   "cell_type": "markdown",
   "id": "902dcb3e",
   "metadata": {},
   "source": [
    "### We will encode the two string columns then find the correlation between them and the target variable"
   ]
  },
  {
   "cell_type": "markdown",
   "id": "3a1b2275",
   "metadata": {},
   "source": [
    "Since the dataset is too large we will take half of it to perform the operation we tried before taking 10%,5% and 25% of the total data and the results were approxamitely the same"
   ]
  },
  {
   "cell_type": "code",
   "execution_count": 4,
   "id": "70974284",
   "metadata": {},
   "outputs": [],
   "source": [
    "nameOrig_encoded=df.sample(frac=0.5)['nameOrig']=df['nameOrig'].astype('category').cat.codes\n",
    "isFraud_encoded=df.sample(frac=0.5)['isFraud']=df['isFraud'].astype('category').cat.codes\n",
    "nameDest_encoded=df.sample(frac=0.5)['nameDest']=df['nameDest'].astype('category').cat.codes"
   ]
  },
  {
   "cell_type": "code",
   "execution_count": 5,
   "id": "1757d911",
   "metadata": {},
   "outputs": [
    {
     "name": "stdout",
     "output_type": "stream",
     "text": [
      "The correlation coefficient between column nameOrig and target variable is -0.0004637760228697384\n",
      "The correlation coefficient between column nameDest and target variable is -0.021963429581900222\n"
     ]
    }
   ],
   "source": [
    "corr_1=nameOrig_encoded.corr(isFraud_encoded)\n",
    "print(\"The correlation coefficient between column nameOrig and target variable is\",corr_1)\n",
    "corr_2=nameDest_encoded.corr(isFraud_encoded)\n",
    "print(\"The correlation coefficient between column nameDest and target variable is\",corr_2)"
   ]
  },
  {
   "cell_type": "markdown",
   "id": "4b4ec9a7",
   "metadata": {},
   "source": [
    "From the above calculations the column nameOrig does not have any relation with the target variable so it will be dropped from the dataset"
   ]
  },
  {
   "cell_type": "code",
   "execution_count": 6,
   "id": "6d526597",
   "metadata": {},
   "outputs": [
    {
     "data": {
      "text/html": [
       "<div>\n",
       "<style scoped>\n",
       "    .dataframe tbody tr th:only-of-type {\n",
       "        vertical-align: middle;\n",
       "    }\n",
       "\n",
       "    .dataframe tbody tr th {\n",
       "        vertical-align: top;\n",
       "    }\n",
       "\n",
       "    .dataframe thead th {\n",
       "        text-align: right;\n",
       "    }\n",
       "</style>\n",
       "<table border=\"1\" class=\"dataframe\">\n",
       "  <thead>\n",
       "    <tr style=\"text-align: right;\">\n",
       "      <th></th>\n",
       "      <th>step</th>\n",
       "      <th>type</th>\n",
       "      <th>amount</th>\n",
       "      <th>oldbalanceOrg</th>\n",
       "      <th>newbalanceOrig</th>\n",
       "      <th>nameDest</th>\n",
       "      <th>oldbalanceDest</th>\n",
       "      <th>newbalanceDest</th>\n",
       "      <th>isFraud</th>\n",
       "      <th>isFlaggedFraud</th>\n",
       "    </tr>\n",
       "  </thead>\n",
       "  <tbody>\n",
       "    <tr>\n",
       "      <th>0</th>\n",
       "      <td>1</td>\n",
       "      <td>PAYMENT</td>\n",
       "      <td>9839.64</td>\n",
       "      <td>170136.0</td>\n",
       "      <td>160296.36</td>\n",
       "      <td>M1979787155</td>\n",
       "      <td>0.0</td>\n",
       "      <td>0.0</td>\n",
       "      <td>0</td>\n",
       "      <td>0</td>\n",
       "    </tr>\n",
       "    <tr>\n",
       "      <th>1</th>\n",
       "      <td>1</td>\n",
       "      <td>PAYMENT</td>\n",
       "      <td>1864.28</td>\n",
       "      <td>21249.0</td>\n",
       "      <td>19384.72</td>\n",
       "      <td>M2044282225</td>\n",
       "      <td>0.0</td>\n",
       "      <td>0.0</td>\n",
       "      <td>0</td>\n",
       "      <td>0</td>\n",
       "    </tr>\n",
       "    <tr>\n",
       "      <th>2</th>\n",
       "      <td>1</td>\n",
       "      <td>TRANSFER</td>\n",
       "      <td>181.00</td>\n",
       "      <td>181.0</td>\n",
       "      <td>0.00</td>\n",
       "      <td>C553264065</td>\n",
       "      <td>0.0</td>\n",
       "      <td>0.0</td>\n",
       "      <td>1</td>\n",
       "      <td>0</td>\n",
       "    </tr>\n",
       "    <tr>\n",
       "      <th>3</th>\n",
       "      <td>1</td>\n",
       "      <td>CASH_OUT</td>\n",
       "      <td>181.00</td>\n",
       "      <td>181.0</td>\n",
       "      <td>0.00</td>\n",
       "      <td>C38997010</td>\n",
       "      <td>21182.0</td>\n",
       "      <td>0.0</td>\n",
       "      <td>1</td>\n",
       "      <td>0</td>\n",
       "    </tr>\n",
       "    <tr>\n",
       "      <th>4</th>\n",
       "      <td>1</td>\n",
       "      <td>PAYMENT</td>\n",
       "      <td>11668.14</td>\n",
       "      <td>41554.0</td>\n",
       "      <td>29885.86</td>\n",
       "      <td>M1230701703</td>\n",
       "      <td>0.0</td>\n",
       "      <td>0.0</td>\n",
       "      <td>0</td>\n",
       "      <td>0</td>\n",
       "    </tr>\n",
       "  </tbody>\n",
       "</table>\n",
       "</div>"
      ],
      "text/plain": [
       "   step      type    amount  oldbalanceOrg  newbalanceOrig     nameDest  \\\n",
       "0     1   PAYMENT   9839.64       170136.0       160296.36  M1979787155   \n",
       "1     1   PAYMENT   1864.28        21249.0        19384.72  M2044282225   \n",
       "2     1  TRANSFER    181.00          181.0            0.00   C553264065   \n",
       "3     1  CASH_OUT    181.00          181.0            0.00    C38997010   \n",
       "4     1   PAYMENT  11668.14        41554.0        29885.86  M1230701703   \n",
       "\n",
       "   oldbalanceDest  newbalanceDest  isFraud  isFlaggedFraud  \n",
       "0             0.0             0.0        0               0  \n",
       "1             0.0             0.0        0               0  \n",
       "2             0.0             0.0        1               0  \n",
       "3         21182.0             0.0        1               0  \n",
       "4             0.0             0.0        0               0  "
      ]
     },
     "execution_count": 6,
     "metadata": {},
     "output_type": "execute_result"
    }
   ],
   "source": [
    "df.drop('nameOrig',inplace=True,axis=1)\n",
    "df.head()"
   ]
  },
  {
   "cell_type": "markdown",
   "id": "503d593b",
   "metadata": {},
   "source": [
    "## Encoding column strings"
   ]
  },
  {
   "cell_type": "code",
   "execution_count": 7,
   "id": "fdd3023a",
   "metadata": {},
   "outputs": [
    {
     "data": {
      "text/plain": [
       "2722362"
      ]
     },
     "execution_count": 7,
     "metadata": {},
     "output_type": "execute_result"
    }
   ],
   "source": [
    "df['nameDest'].nunique()"
   ]
  },
  {
   "cell_type": "markdown",
   "id": "5d26a347",
   "metadata": {},
   "source": [
    "The column nameDest contain lots of unique values so if we encoded it using OHE or any other technique it will result to a massive dataset so we will take the first character from the column and encode it to reduce the unique values"
   ]
  },
  {
   "cell_type": "code",
   "execution_count": 8,
   "id": "1e5bcba1",
   "metadata": {},
   "outputs": [],
   "source": [
    "df['nameDest'] = df['nameDest'].astype(str).str[0]"
   ]
  },
  {
   "cell_type": "code",
   "execution_count": 9,
   "id": "b4c4bb7a",
   "metadata": {},
   "outputs": [
    {
     "data": {
      "text/plain": [
       "2"
      ]
     },
     "execution_count": 9,
     "metadata": {},
     "output_type": "execute_result"
    }
   ],
   "source": [
    "df['nameDest'].nunique()"
   ]
  },
  {
   "cell_type": "markdown",
   "id": "1bfb293f",
   "metadata": {},
   "source": [
    "Now the column nameDest is reduced to 2 unique values which can easily be encoded using any encoding technique"
   ]
  },
  {
   "cell_type": "code",
   "execution_count": 10,
   "id": "cfcf5f43",
   "metadata": {},
   "outputs": [
    {
     "data": {
      "text/html": [
       "<div>\n",
       "<style scoped>\n",
       "    .dataframe tbody tr th:only-of-type {\n",
       "        vertical-align: middle;\n",
       "    }\n",
       "\n",
       "    .dataframe tbody tr th {\n",
       "        vertical-align: top;\n",
       "    }\n",
       "\n",
       "    .dataframe thead th {\n",
       "        text-align: right;\n",
       "    }\n",
       "</style>\n",
       "<table border=\"1\" class=\"dataframe\">\n",
       "  <thead>\n",
       "    <tr style=\"text-align: right;\">\n",
       "      <th></th>\n",
       "      <th>step</th>\n",
       "      <th>amount</th>\n",
       "      <th>oldbalanceOrg</th>\n",
       "      <th>newbalanceOrig</th>\n",
       "      <th>oldbalanceDest</th>\n",
       "      <th>newbalanceDest</th>\n",
       "      <th>isFraud</th>\n",
       "      <th>isFlaggedFraud</th>\n",
       "      <th>type_CASH_IN</th>\n",
       "      <th>type_CASH_OUT</th>\n",
       "      <th>type_DEBIT</th>\n",
       "      <th>type_PAYMENT</th>\n",
       "      <th>type_TRANSFER</th>\n",
       "      <th>nameDest_C</th>\n",
       "      <th>nameDest_M</th>\n",
       "    </tr>\n",
       "  </thead>\n",
       "  <tbody>\n",
       "    <tr>\n",
       "      <th>0</th>\n",
       "      <td>1</td>\n",
       "      <td>9839.64</td>\n",
       "      <td>170136.0</td>\n",
       "      <td>160296.36</td>\n",
       "      <td>0.0</td>\n",
       "      <td>0.0</td>\n",
       "      <td>0</td>\n",
       "      <td>0</td>\n",
       "      <td>0</td>\n",
       "      <td>0</td>\n",
       "      <td>0</td>\n",
       "      <td>1</td>\n",
       "      <td>0</td>\n",
       "      <td>0</td>\n",
       "      <td>1</td>\n",
       "    </tr>\n",
       "    <tr>\n",
       "      <th>1</th>\n",
       "      <td>1</td>\n",
       "      <td>1864.28</td>\n",
       "      <td>21249.0</td>\n",
       "      <td>19384.72</td>\n",
       "      <td>0.0</td>\n",
       "      <td>0.0</td>\n",
       "      <td>0</td>\n",
       "      <td>0</td>\n",
       "      <td>0</td>\n",
       "      <td>0</td>\n",
       "      <td>0</td>\n",
       "      <td>1</td>\n",
       "      <td>0</td>\n",
       "      <td>0</td>\n",
       "      <td>1</td>\n",
       "    </tr>\n",
       "    <tr>\n",
       "      <th>2</th>\n",
       "      <td>1</td>\n",
       "      <td>181.00</td>\n",
       "      <td>181.0</td>\n",
       "      <td>0.00</td>\n",
       "      <td>0.0</td>\n",
       "      <td>0.0</td>\n",
       "      <td>1</td>\n",
       "      <td>0</td>\n",
       "      <td>0</td>\n",
       "      <td>0</td>\n",
       "      <td>0</td>\n",
       "      <td>0</td>\n",
       "      <td>1</td>\n",
       "      <td>1</td>\n",
       "      <td>0</td>\n",
       "    </tr>\n",
       "    <tr>\n",
       "      <th>3</th>\n",
       "      <td>1</td>\n",
       "      <td>181.00</td>\n",
       "      <td>181.0</td>\n",
       "      <td>0.00</td>\n",
       "      <td>21182.0</td>\n",
       "      <td>0.0</td>\n",
       "      <td>1</td>\n",
       "      <td>0</td>\n",
       "      <td>0</td>\n",
       "      <td>1</td>\n",
       "      <td>0</td>\n",
       "      <td>0</td>\n",
       "      <td>0</td>\n",
       "      <td>1</td>\n",
       "      <td>0</td>\n",
       "    </tr>\n",
       "    <tr>\n",
       "      <th>4</th>\n",
       "      <td>1</td>\n",
       "      <td>11668.14</td>\n",
       "      <td>41554.0</td>\n",
       "      <td>29885.86</td>\n",
       "      <td>0.0</td>\n",
       "      <td>0.0</td>\n",
       "      <td>0</td>\n",
       "      <td>0</td>\n",
       "      <td>0</td>\n",
       "      <td>0</td>\n",
       "      <td>0</td>\n",
       "      <td>1</td>\n",
       "      <td>0</td>\n",
       "      <td>0</td>\n",
       "      <td>1</td>\n",
       "    </tr>\n",
       "  </tbody>\n",
       "</table>\n",
       "</div>"
      ],
      "text/plain": [
       "   step    amount  oldbalanceOrg  newbalanceOrig  oldbalanceDest  \\\n",
       "0     1   9839.64       170136.0       160296.36             0.0   \n",
       "1     1   1864.28        21249.0        19384.72             0.0   \n",
       "2     1    181.00          181.0            0.00             0.0   \n",
       "3     1    181.00          181.0            0.00         21182.0   \n",
       "4     1  11668.14        41554.0        29885.86             0.0   \n",
       "\n",
       "   newbalanceDest  isFraud  isFlaggedFraud  type_CASH_IN  type_CASH_OUT  \\\n",
       "0             0.0        0               0             0              0   \n",
       "1             0.0        0               0             0              0   \n",
       "2             0.0        1               0             0              0   \n",
       "3             0.0        1               0             0              1   \n",
       "4             0.0        0               0             0              0   \n",
       "\n",
       "   type_DEBIT  type_PAYMENT  type_TRANSFER  nameDest_C  nameDest_M  \n",
       "0           0             1              0           0           1  \n",
       "1           0             1              0           0           1  \n",
       "2           0             0              1           1           0  \n",
       "3           0             0              0           1           0  \n",
       "4           0             1              0           0           1  "
      ]
     },
     "execution_count": 10,
     "metadata": {},
     "output_type": "execute_result"
    }
   ],
   "source": [
    "df=pd.get_dummies(df,columns=['type','nameDest'])\n",
    "df.head()"
   ]
  },
  {
   "cell_type": "markdown",
   "id": "ba459444",
   "metadata": {},
   "source": [
    "## Scaling data"
   ]
  },
  {
   "cell_type": "markdown",
   "id": "fbccd71f",
   "metadata": {},
   "source": [
    "### In this section we will scale the data using StandardScaler and drop the target variable \"isFraud\" "
   ]
  },
  {
   "cell_type": "code",
   "execution_count": 11,
   "id": "7eb4e372",
   "metadata": {},
   "outputs": [],
   "source": [
    "df=df[['step','amount','oldbalanceOrg','newbalanceOrig','oldbalanceDest','newbalanceDest','isFlaggedFraud','type_CASH_IN',\n",
    "      'type_CASH_OUT','type_DEBIT','type_PAYMENT','type_TRANSFER','nameDest_C','nameDest_M','isFraud']]"
   ]
  },
  {
   "cell_type": "markdown",
   "id": "0487f213",
   "metadata": {},
   "source": [
    "Since the data is too large so we will only take a sample of it to analyze it"
   ]
  },
  {
   "cell_type": "code",
   "execution_count": 12,
   "id": "9a860740",
   "metadata": {},
   "outputs": [
    {
     "data": {
      "text/plain": [
       "(100000, 15)"
      ]
     },
     "execution_count": 12,
     "metadata": {},
     "output_type": "execute_result"
    }
   ],
   "source": [
    "df_sampled=df.sample(n=100000)\n",
    "df_sampled.shape"
   ]
  },
  {
   "cell_type": "code",
   "execution_count": 13,
   "id": "ab225c96",
   "metadata": {},
   "outputs": [],
   "source": [
    "scaler=StandardScaler()"
   ]
  },
  {
   "cell_type": "code",
   "execution_count": 14,
   "id": "552838c6",
   "metadata": {},
   "outputs": [],
   "source": [
    "scaler.fit(df_sampled.drop('isFraud',axis=1))\n",
    "scaled_features = scaler.transform(df_sampled.drop('isFraud',axis=1))"
   ]
  },
  {
   "cell_type": "code",
   "execution_count": 15,
   "id": "11509b06",
   "metadata": {},
   "outputs": [
    {
     "data": {
      "text/html": [
       "<div>\n",
       "<style scoped>\n",
       "    .dataframe tbody tr th:only-of-type {\n",
       "        vertical-align: middle;\n",
       "    }\n",
       "\n",
       "    .dataframe tbody tr th {\n",
       "        vertical-align: top;\n",
       "    }\n",
       "\n",
       "    .dataframe thead th {\n",
       "        text-align: right;\n",
       "    }\n",
       "</style>\n",
       "<table border=\"1\" class=\"dataframe\">\n",
       "  <thead>\n",
       "    <tr style=\"text-align: right;\">\n",
       "      <th></th>\n",
       "      <th>step</th>\n",
       "      <th>amount</th>\n",
       "      <th>oldbalanceOrg</th>\n",
       "      <th>newbalanceOrig</th>\n",
       "      <th>oldbalanceDest</th>\n",
       "      <th>newbalanceDest</th>\n",
       "      <th>isFlaggedFraud</th>\n",
       "      <th>type_CASH_IN</th>\n",
       "      <th>type_CASH_OUT</th>\n",
       "      <th>type_DEBIT</th>\n",
       "      <th>type_PAYMENT</th>\n",
       "      <th>type_TRANSFER</th>\n",
       "      <th>nameDest_C</th>\n",
       "      <th>nameDest_M</th>\n",
       "    </tr>\n",
       "  </thead>\n",
       "  <tbody>\n",
       "    <tr>\n",
       "      <th>0</th>\n",
       "      <td>1.136747</td>\n",
       "      <td>-0.291359</td>\n",
       "      <td>-0.287940</td>\n",
       "      <td>-0.291627</td>\n",
       "      <td>0.210054</td>\n",
       "      <td>0.162927</td>\n",
       "      <td>-0.003162</td>\n",
       "      <td>-0.52802</td>\n",
       "      <td>1.351376</td>\n",
       "      <td>-0.081323</td>\n",
       "      <td>-0.713539</td>\n",
       "      <td>-0.303238</td>\n",
       "      <td>0.713539</td>\n",
       "      <td>-0.713539</td>\n",
       "    </tr>\n",
       "    <tr>\n",
       "      <th>1</th>\n",
       "      <td>-0.566683</td>\n",
       "      <td>0.116666</td>\n",
       "      <td>-0.285823</td>\n",
       "      <td>-0.291627</td>\n",
       "      <td>-0.325037</td>\n",
       "      <td>-0.267576</td>\n",
       "      <td>-0.003162</td>\n",
       "      <td>-0.52802</td>\n",
       "      <td>1.351376</td>\n",
       "      <td>-0.081323</td>\n",
       "      <td>-0.713539</td>\n",
       "      <td>-0.303238</td>\n",
       "      <td>0.713539</td>\n",
       "      <td>-0.713539</td>\n",
       "    </tr>\n",
       "    <tr>\n",
       "      <th>2</th>\n",
       "      <td>-0.279273</td>\n",
       "      <td>-0.305619</td>\n",
       "      <td>-0.262223</td>\n",
       "      <td>-0.269326</td>\n",
       "      <td>-0.325037</td>\n",
       "      <td>-0.335413</td>\n",
       "      <td>-0.003162</td>\n",
       "      <td>-0.52802</td>\n",
       "      <td>-0.739987</td>\n",
       "      <td>-0.081323</td>\n",
       "      <td>1.401465</td>\n",
       "      <td>-0.303238</td>\n",
       "      <td>-1.401465</td>\n",
       "      <td>1.401465</td>\n",
       "    </tr>\n",
       "    <tr>\n",
       "      <th>3</th>\n",
       "      <td>-0.132063</td>\n",
       "      <td>-0.273773</td>\n",
       "      <td>-0.287940</td>\n",
       "      <td>-0.291627</td>\n",
       "      <td>-0.325037</td>\n",
       "      <td>-0.335413</td>\n",
       "      <td>-0.003162</td>\n",
       "      <td>-0.52802</td>\n",
       "      <td>-0.739987</td>\n",
       "      <td>-0.081323</td>\n",
       "      <td>1.401465</td>\n",
       "      <td>-0.303238</td>\n",
       "      <td>-1.401465</td>\n",
       "      <td>1.401465</td>\n",
       "    </tr>\n",
       "    <tr>\n",
       "      <th>4</th>\n",
       "      <td>-0.419473</td>\n",
       "      <td>-0.187046</td>\n",
       "      <td>-0.287940</td>\n",
       "      <td>-0.291627</td>\n",
       "      <td>-0.237543</td>\n",
       "      <td>-0.233853</td>\n",
       "      <td>-0.003162</td>\n",
       "      <td>-0.52802</td>\n",
       "      <td>1.351376</td>\n",
       "      <td>-0.081323</td>\n",
       "      <td>-0.713539</td>\n",
       "      <td>-0.303238</td>\n",
       "      <td>0.713539</td>\n",
       "      <td>-0.713539</td>\n",
       "    </tr>\n",
       "  </tbody>\n",
       "</table>\n",
       "</div>"
      ],
      "text/plain": [
       "       step    amount  oldbalanceOrg  newbalanceOrig  oldbalanceDest  \\\n",
       "0  1.136747 -0.291359      -0.287940       -0.291627        0.210054   \n",
       "1 -0.566683  0.116666      -0.285823       -0.291627       -0.325037   \n",
       "2 -0.279273 -0.305619      -0.262223       -0.269326       -0.325037   \n",
       "3 -0.132063 -0.273773      -0.287940       -0.291627       -0.325037   \n",
       "4 -0.419473 -0.187046      -0.287940       -0.291627       -0.237543   \n",
       "\n",
       "   newbalanceDest  isFlaggedFraud  type_CASH_IN  type_CASH_OUT  type_DEBIT  \\\n",
       "0        0.162927       -0.003162      -0.52802       1.351376   -0.081323   \n",
       "1       -0.267576       -0.003162      -0.52802       1.351376   -0.081323   \n",
       "2       -0.335413       -0.003162      -0.52802      -0.739987   -0.081323   \n",
       "3       -0.335413       -0.003162      -0.52802      -0.739987   -0.081323   \n",
       "4       -0.233853       -0.003162      -0.52802       1.351376   -0.081323   \n",
       "\n",
       "   type_PAYMENT  type_TRANSFER  nameDest_C  nameDest_M  \n",
       "0     -0.713539      -0.303238    0.713539   -0.713539  \n",
       "1     -0.713539      -0.303238    0.713539   -0.713539  \n",
       "2      1.401465      -0.303238   -1.401465    1.401465  \n",
       "3      1.401465      -0.303238   -1.401465    1.401465  \n",
       "4     -0.713539      -0.303238    0.713539   -0.713539  "
      ]
     },
     "execution_count": 15,
     "metadata": {},
     "output_type": "execute_result"
    }
   ],
   "source": [
    "df_scaled = pd.DataFrame(scaled_features,columns=df.columns[:-1])\n",
    "df_scaled.head()"
   ]
  },
  {
   "cell_type": "markdown",
   "id": "d77fac61",
   "metadata": {},
   "source": [
    "Split data into 80% train 20% test"
   ]
  },
  {
   "cell_type": "code",
   "execution_count": 16,
   "id": "6acc7435",
   "metadata": {},
   "outputs": [],
   "source": [
    "X_Train80, X_Test20, Y_Train80, Y_Test20 = train_test_split(scaled_features,df_sampled['isFraud'],\n",
    "                                                    test_size=0.2,random_state=0)"
   ]
  },
  {
   "cell_type": "markdown",
   "id": "8d54df81",
   "metadata": {},
   "source": [
    "## SVM classification algorithm"
   ]
  },
  {
   "cell_type": "markdown",
   "id": "fcfc4343",
   "metadata": {},
   "source": [
    "Loop on multiple degrees to tune in the best parameter to the model"
   ]
  },
  {
   "cell_type": "code",
   "execution_count": 17,
   "id": "55f5223e",
   "metadata": {},
   "outputs": [],
   "source": [
    "\n",
    "#  scores_kfold=[]\n",
    "#  scores_stratifiedkFold=[]\n",
    "# Mse=[]\n",
    "#  for degree in degrees:\n",
    "#      for kernel in kernels:\n",
    "# clf = SVC(kernel='linear',degree=6)\n",
    "# clf.fit(X_Train80,Y_Train80)\n",
    "# Y_pred = clf.predict(X_Test20)\n",
    "# Mse.append(mean_squared_error(Y_pred,Y_Test20))\n",
    "# cv_kfold = KFold(n_splits=10, random_state=1, shuffle=True)\n",
    "# cv_stratifiedKfold=StratifiedKFold(n_splits=10, random_state=1, shuffle=True)\n",
    "# Y_pred_kfold=cross_val_predict(clf, X_Test20, Y_Test20, cv=cv_kfold)\n",
    "# Y_pred_stratifiedkFold=cross_val_predict(clf, X_Test20, Y_Test20, cv=cv_stratifiedKfold)\n",
    "#          scores_kfold.append(cross_val_score(clf, X_Train80, Y_Train80, scoring='accuracy', cv=cv_kfold, n_jobs=-1))\n",
    "#          scores_stratifiedkFold.append(cross_val_score(clf, X_Train80, Y_Train80, scoring='accuracy', cv=cv_stratifiedKfold, n_jobs=-1))\n",
    "# cm=confusion_matrix(Y_Test20,Y_pred)\n",
    "# accuracy = float(cm.diagonal().sum())/len(Y_Test20)\n",
    "# print(\"Accuracy Of SVM For The Given Dataset without using any folds is : \",accuracy)\n",
    "# cm_kfold=confusion_matrix(Y_Test20,Y_pred_kfold)\n",
    "# print(cm_kfold)\n",
    "# accuracy_kfold = float(cm_kfold.diagonal().sum())/len(Y_Test20)\n",
    "# print(\"Accuracy Of SVM For The Given Dataset after applying kFold is : \", accuracy_kfold)\n",
    "# cm_stratifiedkFold=confusion_matrix(Y_Test20,Y_pred_stratifiedkFold)\n",
    "# accuracy_stratifiedKfold = float(cm_stratifiedkFold.diagonal().sum())/len(Y_Test20)\n",
    "# print(\"Accuracy Of SVM For The Given Dataset after applying stratifiedKFold is : \", accuracy_kfold)\n",
    "# min_deg=degrees[Mse.index(min(Mse))]\n",
    "# min_kernel=kernels[Mse.index(min(Mse))]\n",
    "# print('Accuracy: %.3f (%.3f)' % (np.mean(scores_kfold), np.std(scores_kfold)))\n",
    "# print('Accuracy: %.3f (%.3f)' % (np.mean(scores_stratifiedkFold), np.std(scores_stratifiedkFold)))\n",
    "\n",
    "# print(\"The minimal error is {} for kernel of {} and degree of {}\".format(min(Mse),min_kernel,min_deg))\n",
    "        "
   ]
  },
  {
   "cell_type": "code",
   "execution_count": 18,
   "id": "6db49c2e",
   "metadata": {},
   "outputs": [],
   "source": [
    "Y_Train80=Y_Train80.to_numpy()"
   ]
  },
  {
   "cell_type": "markdown",
   "id": "72e438b5",
   "metadata": {},
   "source": [
    "### Score calculation without kfold"
   ]
  },
  {
   "cell_type": "code",
   "execution_count": 19,
   "id": "d469aadd",
   "metadata": {},
   "outputs": [
    {
     "name": "stdout",
     "output_type": "stream",
     "text": [
      "Array of scores is [0.2, 0.25, 0.25, 0.25]\n",
      "Length 4\n",
      "Highest score is 0.25 and degree of 3\n"
     ]
    }
   ],
   "source": [
    "degrees=np.arange(2,6)\n",
    "scores_without_kfold=[]\n",
    "for deg in degrees:\n",
    "    clf = SVC(kernel='poly',degree=deg)\n",
    "    clf.fit(X_Train80,Y_Train80)\n",
    "    Y_pred_without_kfold = clf.predict(X_Test20)\n",
    "    scores_without_kfold.append(recall_score(Y_Test20,Y_pred_without_kfold))\n",
    "max_deg_without_kfold=degrees[np.argmax(scores_without_kfold)]\n",
    "print(\"Array of scores is\",scores_without_kfold)\n",
    "print(\"Length\",len(scores_without_kfold))\n",
    "print(\"Highest score is {} and degree of {}\".format(max(scores_without_kfold),max_deg_without_kfold))\n",
    "#print(\"The average recall score is \",np.mean(scores_without))     \n",
    "    \n",
    "    \n",
    "    "
   ]
  },
  {
   "cell_type": "code",
   "execution_count": 20,
   "id": "ad91e8a0",
   "metadata": {},
   "outputs": [
    {
     "name": "stdout",
     "output_type": "stream",
     "text": [
      "TRAIN: [ 8000  8001  8002 ... 79997 79998 79999] TEST: [   0    1    2 ... 7997 7998 7999]\n",
      "TRAIN: [    0     1     2 ... 79997 79998 79999] TEST: [ 8000  8001  8002 ... 15997 15998 15999]\n",
      "TRAIN: [    0     1     2 ... 79997 79998 79999] TEST: [16000 16001 16002 ... 23997 23998 23999]\n",
      "TRAIN: [    0     1     2 ... 79997 79998 79999] TEST: [24000 24001 24002 ... 31997 31998 31999]\n",
      "TRAIN: [    0     1     2 ... 79997 79998 79999] TEST: [32000 32001 32002 ... 39997 39998 39999]\n",
      "TRAIN: [    0     1     2 ... 79997 79998 79999] TEST: [40000 40001 40002 ... 47997 47998 47999]\n",
      "TRAIN: [    0     1     2 ... 79997 79998 79999] TEST: [48000 48001 48002 ... 55997 55998 55999]\n",
      "TRAIN: [    0     1     2 ... 79997 79998 79999] TEST: [56000 56001 56002 ... 63997 63998 63999]\n",
      "TRAIN: [    0     1     2 ... 79997 79998 79999] TEST: [64000 64001 64002 ... 71997 71998 71999]\n",
      "TRAIN: [    0     1     2 ... 71997 71998 71999] TEST: [72000 72001 72002 ... 79997 79998 79999]\n",
      "Array of scores is [0.5555555555555556, 0.5555555555555556, 0.5555555555555556, 0.5555555555555556, 0.14285714285714285, 0.14285714285714285, 0.14285714285714285, 0.14285714285714285, 0.23529411764705882, 0.29411764705882354, 0.35294117647058826, 0.35294117647058826, 0.0, 0.0, 0.0, 0.0, 0.2222222222222222, 0.3333333333333333, 0.4444444444444444, 0.4444444444444444, 0.2857142857142857, 0.2857142857142857, 0.2857142857142857, 0.2857142857142857, 0.0, 0.125, 0.125, 0.25, 0.0, 0.14285714285714285, 0.42857142857142855, 0.42857142857142855, 0.5, 0.5, 0.5, 0.5, 0.3, 0.3, 0.3, 0.3]\n",
      "Scores unique is  [0.55555556 0.35294118 0.23529412 0.29411765 0.14285714 0.\n",
      " 0.22222222 0.33333333 0.44444444 0.28571429 0.125      0.25\n",
      " 0.5        0.42857143 0.3       ]\n",
      "Array train is [[ 8000  8001  8002 ... 79997 79998 79999]\n",
      " [    0     1     2 ... 79997 79998 79999]\n",
      " [    0     1     2 ... 79997 79998 79999]\n",
      " ...\n",
      " [    0     1     2 ... 79997 79998 79999]\n",
      " [    0     1     2 ... 79997 79998 79999]\n",
      " [    0     1     2 ... 71997 71998 71999]]\n",
      "Array test is [[    0     1     2 ...  7997  7998  7999]\n",
      " [ 8000  8001  8002 ... 15997 15998 15999]\n",
      " [16000 16001 16002 ... 23997 23998 23999]\n",
      " ...\n",
      " [56000 56001 56002 ... 63997 63998 63999]\n",
      " [64000 64001 64002 ... 71997 71998 71999]\n",
      " [72000 72001 72002 ... 79997 79998 79999]]\n",
      "The best index is 0\n",
      "Highest score is 0.5555555555555556 for train index [ 8000  8001  8002 ... 79997 79998 79999] test index [   0    1    2 ... 7997 7998 7999]\n"
     ]
    }
   ],
   "source": [
    "kf = KFold(n_splits=10)\n",
    "arr_train_index=[]\n",
    "arr_test_index=[]\n",
    "scores=[]\n",
    "for train_index, test_index in kf.split(X_Train80):\n",
    "    print(\"TRAIN:\", train_index, \"TEST:\", test_index)\n",
    "    arr_train_index.append(train_index)\n",
    "    arr_test_index.append(test_index)\n",
    "    X_train_fold, X_cv_fold = X_Train80[train_index], X_Train80[test_index]\n",
    "    y_train_fold, y_cv_fold = Y_Train80[train_index], Y_Train80[test_index]\n",
    "    for degree in degrees:\n",
    "        clf = SVC(kernel='poly',degree=degree)\n",
    "        clf.fit(X_train_fold,y_train_fold)\n",
    "        Y_pred = clf.predict(X_cv_fold)\n",
    "        scores.append(recall_score(y_cv_fold,Y_pred))\n",
    "        \n",
    "        \n",
    "print(\"Array of scores is\",scores)\n",
    "x=list(set(scores))\n",
    "scores_unique=np.array(x)\n",
    "print(\"Scores unique is \",scores_unique)\n",
    "arr_train_index=np.array(arr_train_index)\n",
    "print(\"Array train is\",arr_train_index)\n",
    "\n",
    "arr_test_index=np.array(arr_test_index)\n",
    "print(\"Array test is\",arr_test_index)\n",
    "best_index=np.argmax(scores_unique)\n",
    "print(\"The best index is\",best_index)\n",
    "max_train_index=arr_train_index[best_index]\n",
    "max_test_index=arr_test_index[best_index]\n",
    "print(\"Highest score is {} for train index {} test index {}\".format(max(scores_unique),max_train_index,max_test_index))\n",
    "#print(\"The average recall score is \",np.mean(scores))        \n",
    "#Getting the best degree\n",
    "\n",
    "            \n",
    "    \n",
    "    \n",
    "    \n",
    "    \n",
    "    "
   ]
  },
  {
   "cell_type": "markdown",
   "id": "c6831dc9",
   "metadata": {},
   "source": [
    "We can see the score after the kfold is so much higher than before applying KFold"
   ]
  },
  {
   "cell_type": "code",
   "execution_count": null,
   "id": "b63eec55",
   "metadata": {},
   "outputs": [],
   "source": [
    "   "
   ]
  },
  {
   "cell_type": "code",
   "execution_count": null,
   "id": "0dfaab46",
   "metadata": {},
   "outputs": [],
   "source": []
  },
  {
   "cell_type": "code",
   "execution_count": null,
   "id": "f8aa5802",
   "metadata": {},
   "outputs": [],
   "source": []
  }
 ],
 "metadata": {
  "kernelspec": {
   "display_name": "Python 3",
   "language": "python",
   "name": "python3"
  },
  "language_info": {
   "codemirror_mode": {
    "name": "ipython",
    "version": 3
   },
   "file_extension": ".py",
   "mimetype": "text/x-python",
   "name": "python",
   "nbconvert_exporter": "python",
   "pygments_lexer": "ipython3",
   "version": "3.8.8"
  }
 },
 "nbformat": 4,
 "nbformat_minor": 5
}
